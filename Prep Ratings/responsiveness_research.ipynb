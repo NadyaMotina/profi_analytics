{
 "cells": [
  {
   "cell_type": "markdown",
   "metadata": {},
   "source": [
    "## Отвечаемость \n",
    "\n",
    "- В исследовании участвуют только спецы, зарегистрировавшиеся с 1 января 2020.\n",
    "- Смотрим только ЛГ заказы.\n",
    "- Учитывается только первый ответ спеца на приглашение (если была дальнейшая переписка, то она уже не учитывается).\n",
    "- Пока не учитываем отмену заказа и выбор клиентом спеца."
   ]
  },
  {
   "cell_type": "code",
   "execution_count": 1,
   "metadata": {
    "collapsed": false
   },
   "outputs": [
    {
     "data": {
      "text/html": [
       "<script>\n",
       "code_show=true; \n",
       "function code_toggle() {\n",
       " if (code_show){\n",
       " $('div.input').hide();\n",
       " } else {\n",
       " $('div.input').show();\n",
       " }\n",
       " code_show = !code_show\n",
       "} \n",
       "$( document ).ready(code_toggle);\n",
       "</script>\n",
       "<form action=\"javascript:code_toggle()\">\n",
       "<input type=\"submit\" value=\"Click here to toggle on/off the raw code.\"></form>"
      ],
      "text/plain": [
       "<IPython.core.display.HTML object>"
      ]
     },
     "execution_count": 1,
     "metadata": {},
     "output_type": "execute_result"
    }
   ],
   "source": [
    "from IPython.display import HTML\n",
    "\n",
    "HTML('''<script>\n",
    "code_show=true; \n",
    "function code_toggle() {\n",
    " if (code_show){\n",
    " $('div.input').hide();\n",
    " } else {\n",
    " $('div.input').show();\n",
    " }\n",
    " code_show = !code_show\n",
    "} \n",
    "$( document ).ready(code_toggle);\n",
    "</script>\n",
    "<form action=\"javascript:code_toggle()\">\n",
    "<input type=\"submit\" value=\"Click here to toggle on/off the raw code.\"></form>''')"
   ]
  },
  {
   "cell_type": "code",
   "execution_count": 2,
   "metadata": {
    "collapsed": true
   },
   "outputs": [],
   "source": [
    "import math\n",
    "import pandas\n",
    "import statistics\n",
    "from datetime import datetime, timedelta\n",
    "import matplotlib.pyplot as plt\n",
    "%matplotlib inline\n",
    "\n",
    "import warnings\n",
    "warnings.filterwarnings(\"ignore\")"
   ]
  },
  {
   "cell_type": "code",
   "execution_count": 3,
   "metadata": {
    "collapsed": true
   },
   "outputs": [],
   "source": [
    "def percentile(N, percent, key=lambda x: x):\n",
    "    if not N:\n",
    "        return None\n",
    "    k = (len(N) - 1) * percent\n",
    "    f = math.floor(k)\n",
    "    c = math.ceil(k)\n",
    "    if f == c:\n",
    "        return key(N[int(k)])\n",
    "    d0 = key(N[int(f)]) * (c - k)\n",
    "    d1 = key(N[int(c)]) * (k - f)\n",
    "    return d0 + d1\n",
    "\n",
    "def show_usual_stats(data):\n",
    "    if len(data) == 0:\n",
    "        print 'No data'\n",
    "        return \n",
    "    data = sorted(data)\n",
    "    print \"Percentile 25% = \", percentile(data, 0.25)\n",
    "    print \"Percentile 50% = \", percentile(data, 0.5)\n",
    "    print \"Percentile 75% = \", percentile(data, 0.75)\n",
    "    print \"Percentile 95% = \", percentile(data, 0.95)\n",
    "    print \"\\nAverage = \", round(sum(data) * 1.0 / len(data), 2)\n",
    "    print \"MAX = \", max(data)\n",
    "    print \"Data len: \", len(data)"
   ]
  },
  {
   "cell_type": "code",
   "execution_count": 4,
   "metadata": {
    "collapsed": false
   },
   "outputs": [
    {
     "name": "stdout",
     "output_type": "stream",
     "text": [
      "<class 'pandas.core.frame.DataFrame'>\n",
      "RangeIndex: 62872 entries, 0 to 62871\n",
      "Data columns (total 13 columns):\n",
      "order_city_id    62872 non-null object\n",
      "project_name     62872 non-null object\n",
      "prep_id          62872 non-null object\n",
      "prep_dt          62872 non-null datetime64[ns]\n",
      "order_id         62872 non-null int64\n",
      "invite_id        62872 non-null int64\n",
      "invite_dt        62872 non-null datetime64[ns]\n",
      "invite_txt       151 non-null object\n",
      "invite_code      62872 non-null object\n",
      "answer_id        24403 non-null float64\n",
      "answer_dt        24403 non-null datetime64[ns]\n",
      "answer_txt       20239 non-null object\n",
      "answer_code      24403 non-null object\n",
      "dtypes: datetime64[ns](3), float64(1), int64(2), object(7)\n",
      "memory usage: 6.2+ MB\n",
      "None\n"
     ]
    },
    {
     "data": {
      "text/html": [
       "<div>\n",
       "<table border=\"1\" class=\"dataframe\">\n",
       "  <thead>\n",
       "    <tr style=\"text-align: right;\">\n",
       "      <th></th>\n",
       "      <th>order_city_id</th>\n",
       "      <th>project_name</th>\n",
       "      <th>prep_id</th>\n",
       "      <th>prep_dt</th>\n",
       "      <th>order_id</th>\n",
       "      <th>invite_id</th>\n",
       "      <th>invite_dt</th>\n",
       "      <th>invite_txt</th>\n",
       "      <th>invite_code</th>\n",
       "      <th>answer_id</th>\n",
       "      <th>answer_dt</th>\n",
       "      <th>answer_txt</th>\n",
       "      <th>answer_code</th>\n",
       "    </tr>\n",
       "  </thead>\n",
       "  <tbody>\n",
       "    <tr>\n",
       "      <th>0</th>\n",
       "      <td>sochi.mstr</td>\n",
       "      <td>«МастерДел»</td>\n",
       "      <td>7774V</td>\n",
       "      <td>2020-01-23</td>\n",
       "      <td>26780723</td>\n",
       "      <td>1373455745</td>\n",
       "      <td>2020-03-10 22:04:07</td>\n",
       "      <td>NaN</td>\n",
       "      <td>o_pchosen</td>\n",
       "      <td>1.373464e+09</td>\n",
       "      <td>2020-03-10 22:13:47</td>\n",
       "      <td>&lt;div prch=7040&gt;Не подходит бюджет&lt;/div&gt;</td>\n",
       "      <td>r_order_refused</td>\n",
       "    </tr>\n",
       "    <tr>\n",
       "      <th>1</th>\n",
       "      <td>smolensk.krst</td>\n",
       "      <td>«Крэйс–Мастерс»</td>\n",
       "      <td>A-7</td>\n",
       "      <td>2020-01-13</td>\n",
       "      <td>26594715</td>\n",
       "      <td>1364572723</td>\n",
       "      <td>2020-03-02 14:37:36</td>\n",
       "      <td>NaN</td>\n",
       "      <td>o_pchosen</td>\n",
       "      <td>NaN</td>\n",
       "      <td>NaT</td>\n",
       "      <td>NaN</td>\n",
       "      <td>NaN</td>\n",
       "    </tr>\n",
       "    <tr>\n",
       "      <th>2</th>\n",
       "      <td>chechnya-dmstf</td>\n",
       "      <td>Новые вертикали</td>\n",
       "      <td>AAA63</td>\n",
       "      <td>2020-01-08</td>\n",
       "      <td>26947517</td>\n",
       "      <td>1381135170</td>\n",
       "      <td>2020-03-17 21:45:11</td>\n",
       "      <td>NaN</td>\n",
       "      <td>o_pchosen</td>\n",
       "      <td>NaN</td>\n",
       "      <td>NaT</td>\n",
       "      <td>NaN</td>\n",
       "      <td>NaN</td>\n",
       "    </tr>\n",
       "    <tr>\n",
       "      <th>3</th>\n",
       "      <td>penza.mstr</td>\n",
       "      <td>«МастерДел»</td>\n",
       "      <td>AAA70</td>\n",
       "      <td>2020-02-01</td>\n",
       "      <td>26063163</td>\n",
       "      <td>1337092178</td>\n",
       "      <td>2020-02-10 13:57:02</td>\n",
       "      <td>NaN</td>\n",
       "      <td>o_pchosen</td>\n",
       "      <td>1.337132e+09</td>\n",
       "      <td>2020-02-10 14:15:56</td>\n",
       "      <td>&lt;b&gt;ev_code=r_zayavka, cancel_dt=2020-03-08 19:...</td>\n",
       "      <td>r_zayavka0</td>\n",
       "    </tr>\n",
       "    <tr>\n",
       "      <th>4</th>\n",
       "      <td>penza.mstr</td>\n",
       "      <td>«МастерДел»</td>\n",
       "      <td>AAA70</td>\n",
       "      <td>2020-02-01</td>\n",
       "      <td>26063163</td>\n",
       "      <td>1337092178</td>\n",
       "      <td>2020-02-10 13:57:02</td>\n",
       "      <td>NaN</td>\n",
       "      <td>o_pchosen</td>\n",
       "      <td>1.371271e+09</td>\n",
       "      <td>2020-03-08 19:56:11</td>\n",
       "      <td>&lt;b&gt;ev_code=r_order_refused, cancel_dt=2020-04-...</td>\n",
       "      <td>r_order_refused0</td>\n",
       "    </tr>\n",
       "  </tbody>\n",
       "</table>\n",
       "</div>"
      ],
      "text/plain": [
       "    order_city_id     project_name prep_id    prep_dt  order_id   invite_id  \\\n",
       "0      sochi.mstr      «МастерДел»   7774V 2020-01-23  26780723  1373455745   \n",
       "1   smolensk.krst  «Крэйс–Мастерс»     A-7 2020-01-13  26594715  1364572723   \n",
       "2  chechnya-dmstf  Новые вертикали   AAA63 2020-01-08  26947517  1381135170   \n",
       "3      penza.mstr      «МастерДел»   AAA70 2020-02-01  26063163  1337092178   \n",
       "4      penza.mstr      «МастерДел»   AAA70 2020-02-01  26063163  1337092178   \n",
       "\n",
       "            invite_dt invite_txt invite_code     answer_id  \\\n",
       "0 2020-03-10 22:04:07        NaN   o_pchosen  1.373464e+09   \n",
       "1 2020-03-02 14:37:36        NaN   o_pchosen           NaN   \n",
       "2 2020-03-17 21:45:11        NaN   o_pchosen           NaN   \n",
       "3 2020-02-10 13:57:02        NaN   o_pchosen  1.337132e+09   \n",
       "4 2020-02-10 13:57:02        NaN   o_pchosen  1.371271e+09   \n",
       "\n",
       "            answer_dt                                         answer_txt  \\\n",
       "0 2020-03-10 22:13:47            <div prch=7040>Не подходит бюджет</div>   \n",
       "1                 NaT                                                NaN   \n",
       "2                 NaT                                                NaN   \n",
       "3 2020-02-10 14:15:56  <b>ev_code=r_zayavka, cancel_dt=2020-03-08 19:...   \n",
       "4 2020-03-08 19:56:11  <b>ev_code=r_order_refused, cancel_dt=2020-04-...   \n",
       "\n",
       "        answer_code  \n",
       "0   r_order_refused  \n",
       "1               NaN  \n",
       "2               NaN  \n",
       "3        r_zayavka0  \n",
       "4  r_order_refused0  "
      ]
     },
     "execution_count": 4,
     "metadata": {},
     "output_type": "execute_result"
    }
   ],
   "source": [
    "column_names = ['order_city_id', 'project_name', 'prep_id', 'prep_dt', 'order_id', \n",
    "                'invite_id', 'invite_dt', 'invite_txt', 'invite_code', \n",
    "                'answer_id', 'answer_dt', 'answer_txt', 'answer_code']\n",
    "\n",
    "df = pandas.read_csv('invites_answers_events.tsv', delimiter='\\t', header=None, names = column_names, \n",
    "                     parse_dates = ['prep_dt', 'invite_dt', 'answer_dt'])\n",
    "print df.info()\n",
    "df.head()"
   ]
  },
  {
   "cell_type": "markdown",
   "metadata": {},
   "source": [
    "## Сколько всего препов получают приглашения от клиента\n",
    "Под приглашениями имеются в виду нажатия на кнопку \"Предложить заказ\" и \"Написать сообщение\""
   ]
  },
  {
   "cell_type": "code",
   "execution_count": 6,
   "metadata": {
    "collapsed": false
   },
   "outputs": [
    {
     "name": "stdout",
     "output_type": "stream",
     "text": [
      "Число уникальных препов за период:  20397\n"
     ]
    }
   ],
   "source": [
    "print 'Число уникальных препов за период: ', df.prep_id.nunique()"
   ]
  },
  {
   "cell_type": "code",
   "execution_count": 9,
   "metadata": {
    "collapsed": false
   },
   "outputs": [
    {
     "data": {
      "image/png": "[encoded data removed]",
      "text/plain": [
       "<matplotlib.figure.Figure at 0x119081650>"
      ]
     },
     "metadata": {},
     "output_type": "display_data"
    }
   ],
   "source": [
    "plt.figure(figsize=(12,5))\n",
    "df.groupby(['prep_id'])['invite_id'].count().plot.hist(bins = 25, range = (0,25))\n",
    "plt.title(\"Invitation number distribution\")\n",
    "plt.ylabel('preps number')\n",
    "plt.show()"
   ]
  },
  {
   "cell_type": "code",
   "execution_count": 10,
   "metadata": {
    "collapsed": false
   },
   "outputs": [
    {
     "name": "stdout",
     "output_type": "stream",
     "text": [
      "Препы, у которых максимальное количество приглашений:\n",
      "prep_id\n",
      "OzerovaZB2       607\n",
      "ErshovAS14       183\n",
      "MaltsevaAA29     172\n",
      "KarimovSR4       156\n",
      "ShastinAV        143\n",
      "KomissarovaVI    132\n",
      "IvanovaAU48      128\n",
      "SaprykinaTM      128\n",
      "FrolovRO2        127\n",
      "TishaiRR         122\n",
      "Name: invite_id, dtype: int64\n"
     ]
    }
   ],
   "source": [
    "print 'Препы, у которых максимальное количество приглашений:'\n",
    "print df.groupby(['prep_id'])['invite_id'].count().sort_values(ascending=False)[:10]"
   ]
  },
  {
   "cell_type": "markdown",
   "metadata": {},
   "source": [
    "Очень подозрительная OzerovaZB2 (маникюр) - целых 607 приглашений. А отправила она всего 38 заявок.<br>\n",
    "Посмотрим на неё поближе."
   ]
  },
  {
   "cell_type": "code",
   "execution_count": 11,
   "metadata": {
    "collapsed": false
   },
   "outputs": [
    {
     "data": {
      "image/png": "[encoded data removed]",
      "text/plain": [
       "<matplotlib.figure.Figure at 0x1138a8e10>"
      ]
     },
     "metadata": {},
     "output_type": "display_data"
    }
   ],
   "source": [
    "ozerova = df[df['prep_id'] == 'OzerovaZB2']\n",
    "ozerova['invite_dt'] = ozerova['invite_dt'].dt.date\n",
    "\n",
    "# ozerova.groupby(['invite_dt'])['invite_id'].count()\n",
    "\n",
    "ozerova_invites_per_day = []\n",
    "dates = [ozerova['invite_dt'].min() + timedelta(n) for n in range(50)]\n",
    "for single_date in (ozerova['invite_dt'].min() + timedelta(n) for n in range(50)): \n",
    "    ozerova_invites_per_day.append(ozerova[ozerova['invite_dt'] == single_date]['invite_id'].count()) \n",
    "\n",
    "plt.figure(figsize=(12,5))\n",
    "plt.plot(dates, ozerova_invites_per_day)\n",
    "plt.title('OzerovaZB2: Invites number per day')\n",
    "plt.show()"
   ]
  },
  {
   "cell_type": "markdown",
   "metadata": {},
   "source": [
    "13 апреля у Озёровой ЧТО-ТО случилось, и она стала получать по 40-50 приглашений в день. Возможно, дело в карантине. А возможно дело в том, что 12 апреля она получила четвертый отзыв, и это как-то повлияло на её позицию в листинге."
   ]
  },
  {
   "cell_type": "code",
   "execution_count": 12,
   "metadata": {
    "collapsed": false
   },
   "outputs": [
    {
     "name": "stdout",
     "output_type": "stream",
     "text": [
      "Процент препов, у которых всего 1 приглашение:  50.35 %\n"
     ]
    }
   ],
   "source": [
    "df_preps_invites_count = df.groupby(['prep_id'])['invite_id'].count()\n",
    "print 'Процент препов, у которых всего 1 приглашение: ', \\\n",
    "        round(len(df_preps_invites_count[df_preps_invites_count == 1])*100.0/df.prep_id.nunique(), 2), '%'"
   ]
  },
  {
   "cell_type": "markdown",
   "metadata": {},
   "source": [
    "## % отвеченных приглашений\n"
   ]
  },
  {
   "cell_type": "code",
   "execution_count": null,
   "metadata": {
    "collapsed": true
   },
   "outputs": [],
   "source": [
    "## TESTING\n",
    "# prep_id = 'kosorukovAA4'\n",
    "# df[df['prep_id'] == prep_id]['answer_id'].isnull().sum() * 100.0 / df[df['prep_id'] == prep_id]['order_id'].count()"
   ]
  },
  {
   "cell_type": "code",
   "execution_count": 13,
   "metadata": {
    "collapsed": true
   },
   "outputs": [],
   "source": [
    "df_preps_answers_count = df[df['answer_id'] > 0].groupby(['prep_id'])['order_id'].count()\n",
    "df_preps_answers_percent = df_preps_answers_count * 100.0 / df_preps_invites_count"
   ]
  },
  {
   "cell_type": "code",
   "execution_count": 14,
   "metadata": {
    "collapsed": true
   },
   "outputs": [],
   "source": [
    "def show_hist_of_answer_percent(INVITES_N = 1):\n",
    "    answers_percent_list = []\n",
    "    for prep_id in df_preps_invites_count[df_preps_invites_count >= INVITES_N].index:\n",
    "        if df_preps_answers_percent[prep_id] > 0:\n",
    "            answers_percent_list.append(df_preps_answers_percent[prep_id])\n",
    "        else:\n",
    "            answers_percent_list.append(0)\n",
    "\n",
    "    show_usual_stats(answers_percent_list)\n",
    "    plt.figure(figsize=(12,5))\n",
    "    plt.hist(answers_percent_list, bins = 25)\n",
    "    plt.show()"
   ]
  },
  {
   "cell_type": "markdown",
   "metadata": {},
   "source": [
    "Смотрим препов, у которых хотя бы 1 приглашение (просто чтобы понять, какой беспорядок тут в распределении).<br>\n",
    "Видим небольшой пик на 50% (во многом это те, у кого 2 приглашения и 1 из них отвечено).<br>\n",
    "Пик на 100% (во многом это те, у кого 1 приглашение и оно отвечено)."
   ]
  },
  {
   "cell_type": "code",
   "execution_count": 15,
   "metadata": {
    "collapsed": false
   },
   "outputs": [
    {
     "name": "stdout",
     "output_type": "stream",
     "text": [
      "Percentile 25% =  0\n",
      "Percentile 50% =  0\n",
      "Percentile 75% =  66.6666666667\n",
      "Percentile 95% =  100.0\n",
      "\n",
      "Average =  30.4\n",
      "MAX =  100.0\n",
      "Data len:  20397\n"
     ]
    },
    {
     "data": {
      "image/png": "[encoded data removed]",
      "text/plain": [
       "<matplotlib.figure.Figure at 0x119051b50>"
      ]
     },
     "metadata": {},
     "output_type": "display_data"
    }
   ],
   "source": [
    "show_hist_of_answer_percent(1)"
   ]
  },
  {
   "cell_type": "markdown",
   "metadata": {},
   "source": [
    "Теперь смотрим препов, у которых хотя бы 5 приглашений. (таких 14.5%)"
   ]
  },
  {
   "cell_type": "code",
   "execution_count": 16,
   "metadata": {
    "collapsed": false
   },
   "outputs": [
    {
     "name": "stdout",
     "output_type": "stream",
     "text": [
      "Percentile 25% =  3.23660714286\n",
      "Percentile 50% =  40.0\n",
      "Percentile 75% =  73.0509355509\n",
      "Percentile 95% =  100.0\n",
      "\n",
      "Average =  41.5\n",
      "MAX =  100.0\n",
      "Data len:  2958\n"
     ]
    },
    {
     "data": {
      "image/png": "[encoded data removed]",
      "text/plain": [
       "<matplotlib.figure.Figure at 0x119042d90>"
      ]
     },
     "metadata": {},
     "output_type": "display_data"
    }
   ],
   "source": [
    "show_hist_of_answer_percent(5)"
   ]
  },
  {
   "cell_type": "markdown",
   "metadata": {},
   "source": [
    "Теперь смотрим препов, у которых хотя бы 20 приглашений. (таких 1.5%)<br>\n",
    "Здесь с большой натяжкой можно увидеть гаусса справа. "
   ]
  },
  {
   "cell_type": "code",
   "execution_count": 17,
   "metadata": {
    "collapsed": false
   },
   "outputs": [
    {
     "name": "stdout",
     "output_type": "stream",
     "text": [
      "Percentile 25% =  22.2258273848\n",
      "Percentile 50% =  64.2893145161\n",
      "Percentile 75% =  84.1538461538\n",
      "Percentile 95% =  95.1547619048\n",
      "\n",
      "Average =  54.04\n",
      "MAX =  100.0\n",
      "Data len:  308\n"
     ]
    },
    {
     "data": {
      "image/png": "[encoded data removed]",
      "text/plain": [
       "<matplotlib.figure.Figure at 0x1025e3250>"
      ]
     },
     "metadata": {},
     "output_type": "display_data"
    }
   ],
   "source": [
    "show_hist_of_answer_percent(20)"
   ]
  },
  {
   "cell_type": "code",
   "execution_count": 18,
   "metadata": {
    "collapsed": true
   },
   "outputs": [],
   "source": [
    "# round(len(df_preps_invites_count[df_preps_invites_count >= 20])*100.0/df.prep_id.nunique(), 2)"
   ]
  },
  {
   "cell_type": "code",
   "execution_count": null,
   "metadata": {
    "collapsed": true
   },
   "outputs": [],
   "source": []
  }
 ],
 "metadata": {
  "kernelspec": {
   "display_name": "Python 2",
   "language": "python",
   "name": "python2"
  },
  "language_info": {
   "codemirror_mode": {
    "name": "ipython",
    "version": 2
   },
   "file_extension": ".py",
   "mimetype": "text/x-python",
   "name": "python",
   "nbconvert_exporter": "python",
   "pygments_lexer": "ipython2",
   "version": "2.7.12"
  }
 },
 "nbformat": 4,
 "nbformat_minor": 2
}
