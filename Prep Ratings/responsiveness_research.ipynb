{
 "cells": [
  {
   "cell_type": "markdown",
   "metadata": {},
   "source": [
    "# Отвечаемость \n",
    "\n",
    "- В исследовании участвуют только спецы, зарегистрировавшиеся с 1 января 2020.\n",
    "- Смотрим только ЛГ заказы.\n",
    "- Учитывается только первый ответ спеца на приглашение (если была дальнейшая переписка, то она уже не учитывается).\n",
    "- Пока не учитываем отмену заказа и выбор клиентом спеца."
   ]
  },
  {
   "cell_type": "markdown",
   "metadata": {},
   "source": [
    "### Важные детали:\n",
    "\n",
    "Не учитываются заказы, в которых спец получил приглашение по ссылке - проект [Бесплатный профи](https://repetitors.info/admin/aforum/?t=151677). Там отклик от лица спеца отправляется автоматически. И это не отражает реальную отвечаемость спеца, потому что:\n",
    "- Если у спеца ТОЛЬКО автоматические ответы и мы поставим ему среднюю отвечаемость \"менее минуты\", то клиент будет ожидать, что ему ответят быстро. Но это не так.\n",
    "- Если спец отвечает вообще-то очень долго, но у него много авто-откликов, с заниженным средним мы не дадим ему правильную обратную связь \"чувак, ты медленно отвечаешь в чатах, обрати внимание\".<br>\n",
    "\n",
    "(исключаем заказы, где было событие o_pchosen_free)"
   ]
  },
  {
   "cell_type": "markdown",
   "metadata": {},
   "source": [
    "### Что хотим посчитать:\n",
    "1. Среднее время ответа на запрос (приглашение) клиента\n",
    "2. Процент отвеченных запросов (приглашений) клиента\n",
    "3. Процент отвеченных положительно (отклик) запросов клиента\n",
    "4. Просто ответ на сообщение клиента (сообщение требует ответа, если есть ? или вопросительное слово)\n"
   ]
  },
  {
   "cell_type": "code",
   "execution_count": 1,
   "metadata": {
    "collapsed": false
   },
   "outputs": [
    {
     "data": {
      "text/html": [
       "<script>\n",
       "code_show=true; \n",
       "function code_toggle() {\n",
       " if (code_show){\n",
       " $('div.input').hide();\n",
       " } else {\n",
       " $('div.input').show();\n",
       " }\n",
       " code_show = !code_show\n",
       "} \n",
       "$( document ).ready(code_toggle);\n",
       "</script>\n",
       "<form action=\"javascript:code_toggle()\">\n",
       "<input type=\"submit\" value=\"Click here to toggle on/off the raw code.\"></form>"
      ],
      "text/plain": [
       "<IPython.core.display.HTML object>"
      ]
     },
     "execution_count": 1,
     "metadata": {},
     "output_type": "execute_result"
    }
   ],
   "source": [
    "from IPython.display import HTML\n",
    "\n",
    "HTML('''<script>\n",
    "code_show=true; \n",
    "function code_toggle() {\n",
    " if (code_show){\n",
    " $('div.input').hide();\n",
    " } else {\n",
    " $('div.input').show();\n",
    " }\n",
    " code_show = !code_show\n",
    "} \n",
    "$( document ).ready(code_toggle);\n",
    "</script>\n",
    "<form action=\"javascript:code_toggle()\">\n",
    "<input type=\"submit\" value=\"Click here to toggle on/off the raw code.\"></form>''')"
   ]
  },
  {
   "cell_type": "code",
   "execution_count": 2,
   "metadata": {
    "collapsed": true
   },
   "outputs": [],
   "source": [
    "import math\n",
    "import pandas\n",
    "import statistics\n",
    "from datetime import datetime, timedelta\n",
    "import matplotlib.pyplot as plt\n",
    "%matplotlib inline\n",
    "\n",
    "import warnings\n",
    "warnings.filterwarnings(\"ignore\")"
   ]
  },
  {
   "cell_type": "code",
   "execution_count": 3,
   "metadata": {
    "collapsed": true
   },
   "outputs": [],
   "source": [
    "def percentile(N, percent, key=lambda x: x):\n",
    "    if not N:\n",
    "        return None\n",
    "    k = (len(N) - 1) * percent\n",
    "    f = math.floor(k)\n",
    "    c = math.ceil(k)\n",
    "    if f == c:\n",
    "        return key(N[int(k)])\n",
    "    d0 = key(N[int(f)]) * (c - k)\n",
    "    d1 = key(N[int(c)]) * (k - f)\n",
    "    return d0 + d1\n",
    "\n",
    "def show_usual_stats(data):\n",
    "    if len(data) == 0:\n",
    "        print 'No data'\n",
    "        return \n",
    "    data = sorted(data)\n",
    "    print \"Percentile 25% = \", percentile(data, 0.25)\n",
    "    print \"Percentile 50% = \", percentile(data, 0.5)\n",
    "    print \"Percentile 75% = \", percentile(data, 0.75)\n",
    "    print \"Percentile 95% = \", percentile(data, 0.95)\n",
    "    print \"\\nAverage = \", round(sum(data) * 1.0 / len(data), 2)\n",
    "    print \"MAX = \", max(data)\n",
    "    print \"Data len: \", len(data)"
   ]
  },
  {
   "cell_type": "code",
   "execution_count": 4,
   "metadata": {
    "collapsed": false
   },
   "outputs": [
    {
     "name": "stdout",
     "output_type": "stream",
     "text": [
      "<class 'pandas.core.frame.DataFrame'>\n",
      "RangeIndex: 65455 entries, 0 to 65454\n",
      "Data columns (total 13 columns):\n",
      "order_city_id    65455 non-null object\n",
      "project_name     65455 non-null object\n",
      "prep_id          65455 non-null object\n",
      "prep_dt          65455 non-null datetime64[ns]\n",
      "order_id         65455 non-null int64\n",
      "invite_id        65455 non-null int64\n",
      "invite_dt        65455 non-null datetime64[ns]\n",
      "invite_txt       160 non-null object\n",
      "invite_code      65455 non-null object\n",
      "answer_id        25446 non-null float64\n",
      "answer_dt        25446 non-null datetime64[ns]\n",
      "answer_txt       21144 non-null object\n",
      "answer_code      25446 non-null object\n",
      "dtypes: datetime64[ns](3), float64(1), int64(2), object(7)\n",
      "memory usage: 6.5+ MB\n",
      "None\n"
     ]
    },
    {
     "data": {
      "text/html": [
       "<div>\n",
       "<table border=\"1\" class=\"dataframe\">\n",
       "  <thead>\n",
       "    <tr style=\"text-align: right;\">\n",
       "      <th></th>\n",
       "      <th>order_city_id</th>\n",
       "      <th>project_name</th>\n",
       "      <th>prep_id</th>\n",
       "      <th>prep_dt</th>\n",
       "      <th>order_id</th>\n",
       "      <th>invite_id</th>\n",
       "      <th>invite_dt</th>\n",
       "      <th>invite_txt</th>\n",
       "      <th>invite_code</th>\n",
       "      <th>answer_id</th>\n",
       "      <th>answer_dt</th>\n",
       "      <th>answer_txt</th>\n",
       "      <th>answer_code</th>\n",
       "    </tr>\n",
       "  </thead>\n",
       "  <tbody>\n",
       "    <tr>\n",
       "      <th>0</th>\n",
       "      <td>sochi.mstr</td>\n",
       "      <td>«МастерДел»</td>\n",
       "      <td>7774V</td>\n",
       "      <td>2020-01-23</td>\n",
       "      <td>26780723</td>\n",
       "      <td>1373455745</td>\n",
       "      <td>2020-03-10 22:04:07</td>\n",
       "      <td>NaN</td>\n",
       "      <td>o_pchosen</td>\n",
       "      <td>1.373464e+09</td>\n",
       "      <td>2020-03-10 22:13:47</td>\n",
       "      <td>&lt;div prch=7040&gt;Не подходит бюджет&lt;/div&gt;</td>\n",
       "      <td>r_order_refused</td>\n",
       "    </tr>\n",
       "    <tr>\n",
       "      <th>1</th>\n",
       "      <td>smolensk.krst</td>\n",
       "      <td>«Крэйс–Мастерс»</td>\n",
       "      <td>A-7</td>\n",
       "      <td>2020-01-13</td>\n",
       "      <td>26594715</td>\n",
       "      <td>1414247678</td>\n",
       "      <td>2020-04-29 12:15:19</td>\n",
       "      <td>NaN</td>\n",
       "      <td>o_pchosen</td>\n",
       "      <td>NaN</td>\n",
       "      <td>NaT</td>\n",
       "      <td>NaN</td>\n",
       "      <td>NaN</td>\n",
       "    </tr>\n",
       "    <tr>\n",
       "      <th>2</th>\n",
       "      <td>chechnya-dmstf</td>\n",
       "      <td>Новые вертикали</td>\n",
       "      <td>AAA63</td>\n",
       "      <td>2020-01-08</td>\n",
       "      <td>26947517</td>\n",
       "      <td>1381135170</td>\n",
       "      <td>2020-03-17 21:45:11</td>\n",
       "      <td>NaN</td>\n",
       "      <td>o_pchosen</td>\n",
       "      <td>NaN</td>\n",
       "      <td>NaT</td>\n",
       "      <td>NaN</td>\n",
       "      <td>NaN</td>\n",
       "    </tr>\n",
       "    <tr>\n",
       "      <th>3</th>\n",
       "      <td>penza.mstr</td>\n",
       "      <td>«МастерДел»</td>\n",
       "      <td>AAA70</td>\n",
       "      <td>2020-02-01</td>\n",
       "      <td>26063163</td>\n",
       "      <td>1337092178</td>\n",
       "      <td>2020-02-10 13:57:02</td>\n",
       "      <td>NaN</td>\n",
       "      <td>o_pchosen</td>\n",
       "      <td>1.337132e+09</td>\n",
       "      <td>2020-02-10 14:15:56</td>\n",
       "      <td>&lt;b&gt;ev_code=r_zayavka, cancel_dt=2020-03-08 19:...</td>\n",
       "      <td>r_zayavka0</td>\n",
       "    </tr>\n",
       "    <tr>\n",
       "      <th>4</th>\n",
       "      <td>penza.mstr</td>\n",
       "      <td>«МастерДел»</td>\n",
       "      <td>AAA70</td>\n",
       "      <td>2020-02-01</td>\n",
       "      <td>26063163</td>\n",
       "      <td>1337092178</td>\n",
       "      <td>2020-02-10 13:57:02</td>\n",
       "      <td>NaN</td>\n",
       "      <td>o_pchosen</td>\n",
       "      <td>1.371271e+09</td>\n",
       "      <td>2020-03-08 19:56:11</td>\n",
       "      <td>&lt;b&gt;ev_code=r_order_refused, cancel_dt=2020-04-...</td>\n",
       "      <td>r_order_refused0</td>\n",
       "    </tr>\n",
       "  </tbody>\n",
       "</table>\n",
       "</div>"
      ],
      "text/plain": [
       "    order_city_id     project_name prep_id    prep_dt  order_id   invite_id  \\\n",
       "0      sochi.mstr      «МастерДел»   7774V 2020-01-23  26780723  1373455745   \n",
       "1   smolensk.krst  «Крэйс–Мастерс»     A-7 2020-01-13  26594715  1414247678   \n",
       "2  chechnya-dmstf  Новые вертикали   AAA63 2020-01-08  26947517  1381135170   \n",
       "3      penza.mstr      «МастерДел»   AAA70 2020-02-01  26063163  1337092178   \n",
       "4      penza.mstr      «МастерДел»   AAA70 2020-02-01  26063163  1337092178   \n",
       "\n",
       "            invite_dt invite_txt invite_code     answer_id  \\\n",
       "0 2020-03-10 22:04:07        NaN   o_pchosen  1.373464e+09   \n",
       "1 2020-04-29 12:15:19        NaN   o_pchosen           NaN   \n",
       "2 2020-03-17 21:45:11        NaN   o_pchosen           NaN   \n",
       "3 2020-02-10 13:57:02        NaN   o_pchosen  1.337132e+09   \n",
       "4 2020-02-10 13:57:02        NaN   o_pchosen  1.371271e+09   \n",
       "\n",
       "            answer_dt                                         answer_txt  \\\n",
       "0 2020-03-10 22:13:47            <div prch=7040>Не подходит бюджет</div>   \n",
       "1                 NaT                                                NaN   \n",
       "2                 NaT                                                NaN   \n",
       "3 2020-02-10 14:15:56  <b>ev_code=r_zayavka, cancel_dt=2020-03-08 19:...   \n",
       "4 2020-03-08 19:56:11  <b>ev_code=r_order_refused, cancel_dt=2020-04-...   \n",
       "\n",
       "        answer_code  \n",
       "0   r_order_refused  \n",
       "1               NaN  \n",
       "2               NaN  \n",
       "3        r_zayavka0  \n",
       "4  r_order_refused0  "
      ]
     },
     "execution_count": 4,
     "metadata": {},
     "output_type": "execute_result"
    }
   ],
   "source": [
    "column_names = ['order_city_id', 'project_name', 'prep_id', 'prep_dt', 'order_id', \n",
    "                'invite_id', 'invite_dt', 'invite_txt', 'invite_code', \n",
    "                'answer_id', 'answer_dt', 'answer_txt', 'answer_code']\n",
    "\n",
    "df = pandas.read_csv('invites_answers_events.tsv', delimiter='\\t', header=None, names = column_names, \n",
    "                     parse_dates = ['prep_dt', 'invite_dt', 'answer_dt'])\n",
    "print df.info()\n",
    "df.head()"
   ]
  },
  {
   "cell_type": "markdown",
   "metadata": {},
   "source": [
    "## Сколько всего препов получают приглашения от клиента\n",
    "Под приглашениями имеются в виду нажатия на кнопку \"Предложить заказ\" и \"Написать сообщение\""
   ]
  },
  {
   "cell_type": "code",
   "execution_count": 5,
   "metadata": {
    "collapsed": false
   },
   "outputs": [
    {
     "name": "stdout",
     "output_type": "stream",
     "text": [
      "Число уникальных препов за период:  20824\n"
     ]
    }
   ],
   "source": [
    "print 'Число уникальных препов за период: ', df.prep_id.nunique()"
   ]
  },
  {
   "cell_type": "code",
   "execution_count": 6,
   "metadata": {
    "collapsed": false
   },
   "outputs": [
    {
     "data": {
      "image/png": "[encoded data removed]",
      "text/plain": [
       "<matplotlib.figure.Figure at 0x1063dcf90>"
      ]
     },
     "metadata": {},
     "output_type": "display_data"
    }
   ],
   "source": [
    "plt.figure(figsize=(12,5))\n",
    "df.groupby(['prep_id'])['invite_id'].count().plot.hist(bins = 25, range = (0,25))\n",
    "plt.title(\"Invitation number distribution\")\n",
    "plt.ylabel('preps number')\n",
    "plt.show()"
   ]
  },
  {
   "cell_type": "markdown",
   "metadata": {},
   "source": [
    "В гистограмме намеренно отрезан длиннющий хвост, потому что иначе не видно, что слева."
   ]
  },
  {
   "cell_type": "code",
   "execution_count": 7,
   "metadata": {
    "collapsed": false
   },
   "outputs": [
    {
     "name": "stdout",
     "output_type": "stream",
     "text": [
      "Препы, у которых максимальное количество приглашений:\n",
      "prep_id\n",
      "OzerovaZB2       653\n",
      "ErshovAS14       199\n",
      "MaltsevaAA29     180\n",
      "KarimovSR4       175\n",
      "ShastinAV        146\n",
      "IvanovaAU48      143\n",
      "FrolovRO2        142\n",
      "KomissarovaVI    140\n",
      "SaprykinaTM      128\n",
      "TishaiRR         126\n",
      "Name: invite_id, dtype: int64\n"
     ]
    }
   ],
   "source": [
    "print 'Препы, у которых максимальное количество приглашений:'\n",
    "print df.groupby(['prep_id'])['invite_id'].count().sort_values(ascending=False)[:10]"
   ]
  },
  {
   "cell_type": "markdown",
   "metadata": {},
   "source": [
    "Очень подозрительная OzerovaZB2 (маникюр) - целых 653 приглашений. А отправила она всего 38 заявок.<br>\n",
    "Посмотрим на неё поближе."
   ]
  },
  {
   "cell_type": "code",
   "execution_count": 8,
   "metadata": {
    "collapsed": false
   },
   "outputs": [
    {
     "data": {
      "image/png": "[encoded data removed]",
      "text/plain": [
       "<matplotlib.figure.Figure at 0x10669a390>"
      ]
     },
     "metadata": {},
     "output_type": "display_data"
    }
   ],
   "source": [
    "ozerova = df[df['prep_id'] == 'OzerovaZB2']\n",
    "ozerova['invite_dt'] = ozerova['invite_dt'].dt.date\n",
    "\n",
    "# ozerova.groupby(['invite_dt'])['invite_id'].count()\n",
    "\n",
    "ozerova_invites_per_day = []\n",
    "dates = [ozerova['invite_dt'].min() + timedelta(n) for n in range(50)]\n",
    "for single_date in dates: \n",
    "    ozerova_invites_per_day.append(ozerova[ozerova['invite_dt'] == single_date]['invite_id'].count()) \n",
    "\n",
    "plt.figure(figsize=(12,5))\n",
    "plt.plot(dates, ozerova_invites_per_day)\n",
    "plt.title('OzerovaZB2: Invites number per day')\n",
    "plt.show()"
   ]
  },
  {
   "cell_type": "markdown",
   "metadata": {},
   "source": [
    "13 апреля у Озёровой ЧТО-ТО случилось, и она стала получать по 40-50 приглашений в день. <br>\n",
    "Выяснилось, что с 13 апреля в ранжировании стали давать сильный буст спецам, у которых указан \"web\" в анкете. А Озёрова - одна из немногих маникюрщиц, кто якобы оказывает услуги дистанционно. Поэтому она резко оказалась в топе и её стали выбирать благодаря повышенному спросу. <br>\n",
    "Этот баг оперативно поправили 30 апреля."
   ]
  },
  {
   "cell_type": "code",
   "execution_count": 9,
   "metadata": {
    "collapsed": false
   },
   "outputs": [
    {
     "name": "stdout",
     "output_type": "stream",
     "text": [
      "Процент препов, у которых всего 1 приглашение:  50.09 %\n"
     ]
    }
   ],
   "source": [
    "df_preps_invites_count = df.groupby(['prep_id'])['invite_id'].count()\n",
    "print 'Процент препов, у которых всего 1 приглашение: ', \\\n",
    "        round(len(df_preps_invites_count[df_preps_invites_count == 1])*100.0/df.prep_id.nunique(), 2), '%'"
   ]
  },
  {
   "cell_type": "markdown",
   "metadata": {},
   "source": [
    "## % отвеченных приглашений\n"
   ]
  },
  {
   "cell_type": "code",
   "execution_count": 10,
   "metadata": {
    "collapsed": true
   },
   "outputs": [],
   "source": [
    "## TESTING\n",
    "# prep_id = 'kosorukovAA4'\n",
    "# df[df['prep_id'] == prep_id]['answer_id'].isnull().sum() * 100.0 / df[df['prep_id'] == prep_id]['order_id'].count()"
   ]
  },
  {
   "cell_type": "code",
   "execution_count": 11,
   "metadata": {
    "collapsed": true
   },
   "outputs": [],
   "source": [
    "df_preps_answers_count = df[df['answer_id'] > 0].groupby(['prep_id'])['order_id'].count()\n",
    "df_preps_answers_percent = df_preps_answers_count * 100.0 / df_preps_invites_count"
   ]
  },
  {
   "cell_type": "code",
   "execution_count": 12,
   "metadata": {
    "collapsed": true
   },
   "outputs": [],
   "source": [
    "def show_hist_of_answer_percent(INVITES_N = 1):\n",
    "    answers_percent_list = []\n",
    "    for prep_id in df_preps_invites_count[df_preps_invites_count >= INVITES_N].index:\n",
    "        if df_preps_answers_percent[prep_id] > 0:\n",
    "            answers_percent_list.append(df_preps_answers_percent[prep_id])\n",
    "        else:\n",
    "            answers_percent_list.append(0)\n",
    "\n",
    "    show_usual_stats(answers_percent_list)\n",
    "    plt.figure(figsize=(12,5))\n",
    "    plt.hist(answers_percent_list, bins = 25)\n",
    "    plt.show()"
   ]
  },
  {
   "cell_type": "markdown",
   "metadata": {},
   "source": [
    "Смотрим препов, у которых хотя бы 1 приглашение (просто чтобы понять, какой беспорядок тут в распределении).<br>\n",
    "Видим небольшой пик на 50% (во многом это те, у кого 2 приглашения и 1 из них отвечено).<br>\n",
    "Пик на 100% (во многом это те, у кого 1 приглашение и оно отвечено)."
   ]
  },
  {
   "cell_type": "code",
   "execution_count": 13,
   "metadata": {
    "collapsed": false
   },
   "outputs": [
    {
     "name": "stdout",
     "output_type": "stream",
     "text": [
      "Percentile 25% =  0.0\n",
      "Percentile 50% =  0.0\n",
      "Percentile 75% =  66.6666666667\n",
      "Percentile 95% =  100.0\n",
      "\n",
      "Average =  30.16\n",
      "MAX =  100.0\n",
      "Data len:  20824\n"
     ]
    },
    {
     "data": {
      "image/png": "[encoded data removed]",
      "text/plain": [
       "<matplotlib.figure.Figure at 0x10669a190>"
      ]
     },
     "metadata": {},
     "output_type": "display_data"
    }
   ],
   "source": [
    "show_hist_of_answer_percent(1)"
   ]
  },
  {
   "cell_type": "markdown",
   "metadata": {},
   "source": [
    "Теперь смотрим препов, у которых хотя бы 5 приглашений. (таких 14.5%)"
   ]
  },
  {
   "cell_type": "code",
   "execution_count": 14,
   "metadata": {
    "collapsed": false
   },
   "outputs": [
    {
     "name": "stdout",
     "output_type": "stream",
     "text": [
      "Percentile 25% =  2.85714285714\n",
      "Percentile 50% =  40.0\n",
      "Percentile 75% =  72.7833894501\n",
      "Percentile 95% =  100.0\n",
      "\n",
      "Average =  41.32\n",
      "MAX =  100.0\n",
      "Data len:  3075\n"
     ]
    },
    {
     "data": {
      "image/png": "[encoded data removed]",
      "text/plain": [
       "<matplotlib.figure.Figure at 0x114592d50>"
      ]
     },
     "metadata": {},
     "output_type": "display_data"
    }
   ],
   "source": [
    "show_hist_of_answer_percent(5)"
   ]
  },
  {
   "cell_type": "markdown",
   "metadata": {},
   "source": [
    "Теперь смотрим препов, у которых хотя бы 20 приглашений. (таких 1.5%)<br>\n",
    "Здесь с большой натяжкой можно увидеть гаусса справа. "
   ]
  },
  {
   "cell_type": "code",
   "execution_count": 15,
   "metadata": {
    "collapsed": false
   },
   "outputs": [
    {
     "name": "stdout",
     "output_type": "stream",
     "text": [
      "Percentile 25% =  18.9832689833\n",
      "Percentile 50% =  62.962962963\n",
      "Percentile 75% =  83.3333333333\n",
      "Percentile 95% =  95.1800232288\n",
      "\n",
      "Average =  53.16\n",
      "MAX =  100.0\n",
      "Data len:  331\n"
     ]
    },
    {
     "data": {
      "image/png": "[encoded data removed]",
      "text/plain": [
       "<matplotlib.figure.Figure at 0x119c70510>"
      ]
     },
     "metadata": {},
     "output_type": "display_data"
    }
   ],
   "source": [
    "show_hist_of_answer_percent(20)"
   ]
  },
  {
   "cell_type": "code",
   "execution_count": 17,
   "metadata": {
    "collapsed": false
   },
   "outputs": [],
   "source": [
    "# round(len(df_preps_invites_count[df_preps_invites_count >= 20])*100.0/df.prep_id.nunique(), 2)"
   ]
  },
  {
   "cell_type": "markdown",
   "metadata": {},
   "source": [
    "Попробовала посчитать то же самое на выборке препов, зарегистрировавшихся с 1 января по 1 апреля (1 марта), <br>\n",
    "учитывать только тех, у кого было достаточно времени, чтобы получить хотя бы 1 приглашение. <br>\n",
    "Но по ним картинка очень мало отличается.\n"
   ]
  },
  {
   "cell_type": "code",
   "execution_count": 18,
   "metadata": {
    "collapsed": true
   },
   "outputs": [],
   "source": [
    "# print len(df[df['prep_dt'] < '2020-04-01'].groupby(['prep_id']).count())\n",
    "# 18284\n",
    "\n",
    "# df = df[df['prep_dt'] < '2020-03-01']"
   ]
  },
  {
   "cell_type": "markdown",
   "metadata": {},
   "source": [
    "## Среднее время ответа по препам"
   ]
  },
  {
   "cell_type": "markdown",
   "metadata": {},
   "source": [
    "Оставляем в табличке только время первого приглашения и время первого ответа на него (приглашения без ответа не учитываются)"
   ]
  },
  {
   "cell_type": "code",
   "execution_count": 20,
   "metadata": {
    "collapsed": false
   },
   "outputs": [
    {
     "data": {
      "text/html": [
       "<div>\n",
       "<table border=\"1\" class=\"dataframe\">\n",
       "  <thead>\n",
       "    <tr style=\"text-align: right;\">\n",
       "      <th></th>\n",
       "      <th></th>\n",
       "      <th></th>\n",
       "      <th>min</th>\n",
       "    </tr>\n",
       "    <tr>\n",
       "      <th>prep_id</th>\n",
       "      <th>order_id</th>\n",
       "      <th>invite_dt</th>\n",
       "      <th></th>\n",
       "    </tr>\n",
       "  </thead>\n",
       "  <tbody>\n",
       "    <tr>\n",
       "      <th>7774V</th>\n",
       "      <th>26780723</th>\n",
       "      <th>2020-03-10 22:04:07</th>\n",
       "      <td>2020-03-10 22:13:47</td>\n",
       "    </tr>\n",
       "    <tr>\n",
       "      <th>AAA70</th>\n",
       "      <th>26063163</th>\n",
       "      <th>2020-02-10 13:57:02</th>\n",
       "      <td>2020-02-10 14:15:56</td>\n",
       "    </tr>\n",
       "    <tr>\n",
       "      <th>AAV13</th>\n",
       "      <th>25961886</th>\n",
       "      <th>2020-02-06 16:15:06</th>\n",
       "      <td>2020-02-06 16:16:38</td>\n",
       "    </tr>\n",
       "    <tr>\n",
       "      <th>AaaaaaSA</th>\n",
       "      <th>27446990</th>\n",
       "      <th>2020-04-23 22:05:39</th>\n",
       "      <td>2020-04-23 22:17:02</td>\n",
       "    </tr>\n",
       "    <tr>\n",
       "      <th>AbaevEA</th>\n",
       "      <th>27144029</th>\n",
       "      <th>2020-03-28 08:25:29</th>\n",
       "      <td>2020-03-28 14:13:44</td>\n",
       "    </tr>\n",
       "  </tbody>\n",
       "</table>\n",
       "</div>"
      ],
      "text/plain": [
       "                                                      min\n",
       "prep_id  order_id invite_dt                              \n",
       "7774V    26780723 2020-03-10 22:04:07 2020-03-10 22:13:47\n",
       "AAA70    26063163 2020-02-10 13:57:02 2020-02-10 14:15:56\n",
       "AAV13    25961886 2020-02-06 16:15:06 2020-02-06 16:16:38\n",
       "AaaaaaSA 27446990 2020-04-23 22:05:39 2020-04-23 22:17:02\n",
       "AbaevEA  27144029 2020-03-28 08:25:29 2020-03-28 14:13:44"
      ]
     },
     "execution_count": 20,
     "metadata": {},
     "output_type": "execute_result"
    }
   ],
   "source": [
    "df_answered_invites = df[df['answer_id'] > 0]\n",
    "df_first_invites = df_answered_invites.groupby(['prep_id', 'order_id', 'invite_dt'])['invite_dt'].agg(['min'])\n",
    "df_first_answers = df_answered_invites.groupby(['prep_id', 'order_id', 'invite_dt'])['answer_dt'].agg(['min'])\n",
    "df_first_answers.head()"
   ]
  },
  {
   "cell_type": "markdown",
   "metadata": {},
   "source": [
    "Считаем разницу между приглашением и ответом, записываем в минутах"
   ]
  },
  {
   "cell_type": "code",
   "execution_count": 21,
   "metadata": {
    "collapsed": false
   },
   "outputs": [
    {
     "data": {
      "text/html": [
       "<div>\n",
       "<table border=\"1\" class=\"dataframe\">\n",
       "  <thead>\n",
       "    <tr style=\"text-align: right;\">\n",
       "      <th></th>\n",
       "      <th></th>\n",
       "      <th></th>\n",
       "      <th>min</th>\n",
       "      <th>minutes_diff</th>\n",
       "    </tr>\n",
       "    <tr>\n",
       "      <th>prep_id</th>\n",
       "      <th>order_id</th>\n",
       "      <th>invite_dt</th>\n",
       "      <th></th>\n",
       "      <th></th>\n",
       "    </tr>\n",
       "  </thead>\n",
       "  <tbody>\n",
       "    <tr>\n",
       "      <th>AbakargadzhievaDSh</th>\n",
       "      <th>27250774</th>\n",
       "      <th>2020-04-04 15:37:27</th>\n",
       "      <td>00:28:38</td>\n",
       "      <td>28.6</td>\n",
       "    </tr>\n",
       "    <tr>\n",
       "      <th>AbakumovAK</th>\n",
       "      <th>27675550</th>\n",
       "      <th>2020-04-28 14:37:58</th>\n",
       "      <td>04:34:26</td>\n",
       "      <td>274.4</td>\n",
       "    </tr>\n",
       "    <tr>\n",
       "      <th rowspan=\"4\" valign=\"top\">AbankinaAD</th>\n",
       "      <th>26185151</th>\n",
       "      <th>2020-02-15 20:32:18</th>\n",
       "      <td>10:39:47</td>\n",
       "      <td>639.8</td>\n",
       "    </tr>\n",
       "    <tr>\n",
       "      <th>27065105</th>\n",
       "      <th>2020-03-23 18:25:39</th>\n",
       "      <td>00:03:04</td>\n",
       "      <td>3.1</td>\n",
       "    </tr>\n",
       "    <tr>\n",
       "      <th>27396194</th>\n",
       "      <th>2020-04-13 12:11:37</th>\n",
       "      <td>00:03:49</td>\n",
       "      <td>3.8</td>\n",
       "    </tr>\n",
       "    <tr>\n",
       "      <th>27582115</th>\n",
       "      <th>2020-04-23 16:06:54</th>\n",
       "      <td>00:01:55</td>\n",
       "      <td>1.9</td>\n",
       "    </tr>\n",
       "  </tbody>\n",
       "</table>\n",
       "</div>"
      ],
      "text/plain": [
       "                                                     min  minutes_diff\n",
       "prep_id            order_id invite_dt                                 \n",
       "AbakargadzhievaDSh 27250774 2020-04-04 15:37:27 00:28:38          28.6\n",
       "AbakumovAK         27675550 2020-04-28 14:37:58 04:34:26         274.4\n",
       "AbankinaAD         26185151 2020-02-15 20:32:18 10:39:47         639.8\n",
       "                   27065105 2020-03-23 18:25:39 00:03:04           3.1\n",
       "                   27396194 2020-04-13 12:11:37 00:03:49           3.8\n",
       "                   27582115 2020-04-23 16:06:54 00:01:55           1.9"
      ]
     },
     "execution_count": 21,
     "metadata": {},
     "output_type": "execute_result"
    }
   ],
   "source": [
    "df_answers_diffs = df_first_answers - df_first_invites\n",
    "df_answers_diffs['minutes_diff'] = df_answers_diffs['min'].dt.total_seconds() / 60\n",
    "df_answers_diffs['minutes_diff'] = df_answers_diffs['minutes_diff'].round(1)\n",
    "df_answers_diffs[5:11]"
   ]
  },
  {
   "cell_type": "code",
   "execution_count": 22,
   "metadata": {
    "collapsed": false
   },
   "outputs": [],
   "source": [
    "median_answer_time = df_answers_diffs.groupby(level = 0).median()\n",
    "mean_answer_time = df_answers_diffs.groupby(level = 0).mean()"
   ]
  },
  {
   "cell_type": "code",
   "execution_count": 31,
   "metadata": {
    "collapsed": false
   },
   "outputs": [
    {
     "data": {
      "image/png": "[encoded data removed]",
      "text/plain": [
       "<matplotlib.figure.Figure at 0x11d8b2510>"
      ]
     },
     "metadata": {},
     "output_type": "display_data"
    }
   ],
   "source": [
    "MAX_VALUE = 50\n",
    "\n",
    "plt.figure(figsize=(12,5))\n",
    "plt.hist(median_answer_time.values, bins = 100, alpha=0.5, label='median', range = (0,MAX_VALUE))\n",
    "plt.hist(mean_answer_time.values, bins = 100, alpha=0.5, label='mean', range = (0,MAX_VALUE))\n",
    "plt.legend(loc='upper right')\n",
    "plt.title('Median and average answer time distribution')\n",
    "plt.xlabel('Answer time (minutes)')\n",
    "plt.ylabel('Preps number')\n",
    "plt.show()"
   ]
  },
  {
   "cell_type": "markdown",
   "metadata": {},
   "source": [
    "**Загадка:** <br>Откуда взялся такой жирный пик на 23-25 минутах?<br>\n",
    "**Моя гипотеза:** <br>Пуши спецам о приглашении приходят с задержкой 20-22 минуты. Такое возможно на Андроиде (у меня с обновление на 9 ось стали ужасно работать пуши, приходят с большим опозданием) - проблема общеизвестная https://www.mql5.com/ru/forum/306009. Возможно, как-то починив эти пуши мы сократим среднее время ответов :) "
   ]
  },
  {
   "cell_type": "markdown",
   "metadata": {},
   "source": [
    "Вот примеры таких заказов:"
   ]
  },
  {
   "cell_type": "code",
   "execution_count": 34,
   "metadata": {
    "collapsed": false
   },
   "outputs": [
    {
     "data": {
      "text/plain": [
       "prep_id        order_id  invite_dt          \n",
       "BarchanSI2     26437193  2020-02-25 10:30:25   00:23:57\n",
       "BigunAG        26807763  2020-03-11 21:20:47   00:24:00\n",
       "CheremnovAN    27189618  2020-03-31 13:21:25   00:24:01\n",
       "DarunEA        26709994  2020-03-07 11:52:36   00:24:01\n",
       "DomyshevAV3    27010716  2020-03-21 07:50:52   00:24:00\n",
       "GoihmanOA      27264762  2020-04-05 14:13:44   00:23:59\n",
       "IngaII3        27036739  2020-03-22 19:43:18   00:23:58\n",
       "IvanovEA77     27464302  2020-04-17 08:11:53   00:23:59\n",
       "IvanovaAU48    27396845  2020-04-13 12:41:33   00:23:59\n",
       "KalmatovaRR2   27434551  2020-04-16 19:50:55   00:24:00\n",
       "KarimovSR4     27300184  2020-04-22 15:47:03   00:23:59\n",
       "KarimovaNU2    27068152  2020-03-23 22:16:22   00:24:02\n",
       "KislyakDD      27487021  2020-04-18 15:35:00   00:24:00\n",
       "KlepchaIE      27029418  2020-03-22 14:30:26   00:24:02\n",
       "KuleshovaAA9   25903314  2020-02-04 15:29:43   00:24:00\n",
       "LahtermanOS    27676180  2020-04-28 18:52:11   00:24:01\n",
       "LeiteizinAS    27713339  2020-04-30 13:38:17   00:24:01\n",
       "LipatovaMO     27613401  2020-04-25 15:44:53   00:24:01\n",
       "LisitskayaNK   27513387  2020-04-20 10:52:12   00:24:01\n",
       "               27521394  2020-04-22 14:02:16   00:24:03\n",
       "LoktistovaES   25598544  2020-01-24 10:39:47   00:24:02\n",
       "MadenAB        26878591  2020-03-14 20:26:47   00:23:58\n",
       "MikerovaNU     27246283  2020-04-06 17:43:20   00:24:00\n",
       "MileshkinNV    27268967  2020-04-05 18:47:08   00:23:57\n",
       "MorinSN        27366296  2020-04-11 14:52:13   00:23:57\n",
       "MoryakovME     26787869  2020-03-12 18:41:03   00:24:01\n",
       "MurzabekovaVK  25695261  2020-01-28 13:42:17   00:23:59\n",
       "PyanzovIV      27208576  2020-04-01 18:22:01   00:23:57\n",
       "SabitovaDI2    26465131  2020-02-26 09:57:16   00:23:59\n",
       "SaburovaAV3    25544700  2020-01-22 12:32:24   00:23:57\n",
       "SalimovaZN     26735374  2020-03-09 00:51:49   00:24:01\n",
       "SenatorovaVG   27300692  2020-04-07 16:42:40   00:23:59\n",
       "ShabazovaTN    27461396  2020-04-26 19:30:15   00:24:00\n",
       "ShamataevEL    26724916  2020-03-08 10:55:25   00:23:59\n",
       "ShpakovaEN2    27669740  2020-04-28 13:31:14   00:24:03\n",
       "SolovevSU6     27464546  2020-04-17 10:05:55   00:23:59\n",
       "SumihinaAA     27120513  2020-03-26 14:38:58   00:23:58\n",
       "TitovIS7       27376726  2020-04-12 09:29:48   00:24:02\n",
       "VradiiME       27707034  2020-04-30 07:10:34   00:23:57\n",
       "YaskovIV2      26348592  2020-02-21 10:37:00   00:24:00\n",
       "Name: min, dtype: timedelta64[ns]"
      ]
     },
     "execution_count": 34,
     "metadata": {},
     "output_type": "execute_result"
    }
   ],
   "source": [
    "df_answers_diffs[df_answers_diffs['minutes_diff'] == 24]['min'][:40]"
   ]
  },
  {
   "cell_type": "code",
   "execution_count": null,
   "metadata": {
    "collapsed": true
   },
   "outputs": [],
   "source": []
  },
  {
   "cell_type": "code",
   "execution_count": null,
   "metadata": {
    "collapsed": true
   },
   "outputs": [],
   "source": []
  },
  {
   "cell_type": "code",
   "execution_count": null,
   "metadata": {
    "collapsed": true
   },
   "outputs": [],
   "source": []
  },
  {
   "cell_type": "markdown",
   "metadata": {},
   "source": [
    "Что дальше:\n",
    "\n",
    "Дальше надо посмотреть и на % отвеченных и на время ответа. Понять сводится ли это к одному числу. \n",
    "\n",
    "Понять сколько надо приглашений, чтобы считать, что отвечаемость есть и она адекватна (видимо одно приглашение не показатель :)).\n",
    "\n",
    "Концептуально мы хотели держать два числа -- метрика + наша уверенность в том, что она такая.\n",
    "Видимо \"уверенность\" это и есть количество приглашений. Чем их больше, тем уверенность выше. Нужен какой-то график \"уверенности\" типа арктангенса или тупо линейный. Короче понимать при каком числе приглашений это прямо устоявшаяся статистика, при каком числе приглашений это просто случайное число.\n",
    "        \n",
    "А дальше подключаем компонент времени. Как вообще эти приглашения распределены по времени? Можно ли брать последние 10 с одним весом, предспоследние 10 с другим весом и всё это суммировать? Есть ли такое, что спец отвечал хорошо, потом скатывается и отвечает плохо, а потом опять отвечает хорошо.\n",
    "В общем интересно понимать как по всей активности спеца сделать вывод о его отвечаемости \"в целом\""
   ]
  },
  {
   "cell_type": "code",
   "execution_count": null,
   "metadata": {
    "collapsed": true
   },
   "outputs": [],
   "source": []
  }
 ],
 "metadata": {
  "kernelspec": {
   "display_name": "Python 2",
   "language": "python",
   "name": "python2"
  },
  "language_info": {
   "codemirror_mode": {
    "name": "ipython",
    "version": 2
   },
   "file_extension": ".py",
   "mimetype": "text/x-python",
   "name": "python",
   "nbconvert_exporter": "python",
   "pygments_lexer": "ipython2",
   "version": "2.7.12"
  }
 },
 "nbformat": 4,
 "nbformat_minor": 2
}
