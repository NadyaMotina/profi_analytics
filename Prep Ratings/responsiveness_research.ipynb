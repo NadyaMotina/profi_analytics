{
 "cells": [
  {
   "cell_type": "markdown",
   "metadata": {},
   "source": [
    "# Отвечаемость aka First Reply Time\n",
    "\n",
    "Задача: https://repetitors.info/admin/aforum/?t=155229\n",
    "\n",
    "- В исследовании участвуют только спецы, зарегистрировавшиеся с 1 января 2020.\n",
    "- Смотрим только ЛГ заказы.\n",
    "- Учитывается только первый ответ спеца на приглашение (если была дальнейшая переписка, то она уже не учитывается)."
   ]
  },
  {
   "cell_type": "markdown",
   "metadata": {},
   "source": [
    "### Важные детали:\n",
    "\n",
    "Не учитываются заказы, в которых спец получил приглашение по ссылке - проект [Бесплатный профи](https://repetitors.info/admin/aforum/?t=151677). Там отклик от лица спеца отправляется автоматически. И это не отражает реальную отвечаемость спеца, потому что:\n",
    "- Если у спеца ТОЛЬКО автоматические ответы и мы поставим ему среднюю отвечаемость \"менее минуты\", то клиент будет ожидать, что ему ответят быстро. Но это не так.\n",
    "- Если спец отвечает вообще-то очень долго, но у него много авто-откликов, с заниженным средним мы не дадим ему правильную обратную связь \"чувак, ты медленно отвечаешь в чатах, обрати внимание\".<br>\n",
    "\n",
    "(исключаем заказы, где было событие o_pchosen_free)"
   ]
  },
  {
   "cell_type": "markdown",
   "metadata": {},
   "source": [
    "### Что хотим посчитать:\n",
    "1. Процент отвеченных запросов (приглашений) клиента\n",
    "2. Процент отвеченных положительно (отклик) запросов клиента\n",
    "3. Среднее время ответа на запрос (приглашение) клиента"
   ]
  },
  {
   "cell_type": "code",
   "execution_count": 1,
   "metadata": {
    "collapsed": false
   },
   "outputs": [
    {
     "data": {
      "text/html": [
       "<script>\n",
       "code_show=true; \n",
       "function code_toggle() {\n",
       " if (code_show){\n",
       " $('div.input').hide();\n",
       " } else {\n",
       " $('div.input').show();\n",
       " }\n",
       " code_show = !code_show\n",
       "} \n",
       "$( document ).ready(code_toggle);\n",
       "</script>\n",
       "<form action=\"javascript:code_toggle()\">\n",
       "<input type=\"submit\" value=\"Click here to toggle on/off the raw code.\"></form>"
      ],
      "text/plain": [
       "<IPython.core.display.HTML object>"
      ]
     },
     "execution_count": 1,
     "metadata": {},
     "output_type": "execute_result"
    }
   ],
   "source": [
    "from IPython.display import HTML\n",
    "\n",
    "HTML('''<script>\n",
    "code_show=true; \n",
    "function code_toggle() {\n",
    " if (code_show){\n",
    " $('div.input').hide();\n",
    " } else {\n",
    " $('div.input').show();\n",
    " }\n",
    " code_show = !code_show\n",
    "} \n",
    "$( document ).ready(code_toggle);\n",
    "</script>\n",
    "<form action=\"javascript:code_toggle()\">\n",
    "<input type=\"submit\" value=\"Click here to toggle on/off the raw code.\"></form>''')"
   ]
  },
  {
   "cell_type": "code",
   "execution_count": 49,
   "metadata": {
    "collapsed": true
   },
   "outputs": [],
   "source": [
    "import math\n",
    "import pandas\n",
    "from copy import deepcopy\n",
    "from datetime import datetime, timedelta\n",
    "import matplotlib.pyplot as plt\n",
    "%matplotlib inline\n",
    "\n",
    "import warnings\n",
    "warnings.filterwarnings(\"ignore\")"
   ]
  },
  {
   "cell_type": "code",
   "execution_count": 50,
   "metadata": {
    "collapsed": true
   },
   "outputs": [],
   "source": [
    "def percentile(N, percent, key=lambda x: x):\n",
    "    if not N:\n",
    "        return None\n",
    "    k = (len(N) - 1) * percent\n",
    "    f = math.floor(k)\n",
    "    c = math.ceil(k)\n",
    "    if f == c:\n",
    "        return key(N[int(k)])\n",
    "    d0 = key(N[int(f)]) * (c - k)\n",
    "    d1 = key(N[int(c)]) * (k - f)\n",
    "    return d0 + d1\n",
    "\n",
    "def avg(data):\n",
    "    if len(data) == 0:\n",
    "        print 'No data'\n",
    "        return \n",
    "    return round(sum(data) * 1.0 / len(data), 2)\n",
    "\n",
    "def show_usual_stats(data):\n",
    "    if len(data) == 0:\n",
    "        print 'No data'\n",
    "        return \n",
    "    data = sorted(data)\n",
    "    print \"Percentile 25% = \", percentile(data, 0.25)\n",
    "    print \"Percentile 50% = \", percentile(data, 0.5)\n",
    "    print \"Percentile 75% = \", percentile(data, 0.75)\n",
    "    print \"Percentile 95% = \", percentile(data, 0.95)\n",
    "    print \"\\nAverage = \", round(sum(data) * 1.0 / len(data), 2)\n",
    "    print \"MAX = \", max(data)\n",
    "    print \"Data len: \", len(data)"
   ]
  },
  {
   "cell_type": "code",
   "execution_count": 51,
   "metadata": {
    "collapsed": false
   },
   "outputs": [
    {
     "name": "stdout",
     "output_type": "stream",
     "text": [
      "Число строк:  83963\n"
     ]
    },
    {
     "data": {
      "text/html": [
       "<div>\n",
       "<table border=\"1\" class=\"dataframe\">\n",
       "  <thead>\n",
       "    <tr style=\"text-align: right;\">\n",
       "      <th></th>\n",
       "      <th>order_city_id</th>\n",
       "      <th>project_name</th>\n",
       "      <th>prep_id</th>\n",
       "      <th>prep_dt</th>\n",
       "      <th>order_id</th>\n",
       "      <th>invite_id</th>\n",
       "      <th>invite_dt</th>\n",
       "      <th>invite_txt</th>\n",
       "      <th>invite_code</th>\n",
       "      <th>answer_id</th>\n",
       "      <th>answer_dt</th>\n",
       "      <th>answer_txt</th>\n",
       "      <th>answer_code</th>\n",
       "      <th>nazn_id</th>\n",
       "      <th>nazn_dt</th>\n",
       "    </tr>\n",
       "  </thead>\n",
       "  <tbody>\n",
       "    <tr>\n",
       "      <th>13</th>\n",
       "      <td>sochi.mstr</td>\n",
       "      <td>«МастерДел»</td>\n",
       "      <td>7774V</td>\n",
       "      <td>2020-01-23</td>\n",
       "      <td>26780723</td>\n",
       "      <td>1373455745</td>\n",
       "      <td>2020-03-10 22:04:07</td>\n",
       "      <td>NaN</td>\n",
       "      <td>o_pchosen</td>\n",
       "      <td>1.373464e+09</td>\n",
       "      <td>2020-03-10 22:13:47</td>\n",
       "      <td>&lt;div prch=7040&gt;Не подходит бюджет&lt;/div&gt;</td>\n",
       "      <td>r_order_refused</td>\n",
       "      <td>NaN</td>\n",
       "      <td>NaT</td>\n",
       "    </tr>\n",
       "    <tr>\n",
       "      <th>15</th>\n",
       "      <td>smolensk.krst</td>\n",
       "      <td>«Крэйс–Мастерс»</td>\n",
       "      <td>A-7</td>\n",
       "      <td>2020-01-13</td>\n",
       "      <td>26594715</td>\n",
       "      <td>1414247678</td>\n",
       "      <td>2020-04-29 12:15:19</td>\n",
       "      <td>NaN</td>\n",
       "      <td>o_pchosen</td>\n",
       "      <td>NaN</td>\n",
       "      <td>NaT</td>\n",
       "      <td>NaN</td>\n",
       "      <td>NaN</td>\n",
       "      <td>NaN</td>\n",
       "      <td>NaT</td>\n",
       "    </tr>\n",
       "    <tr>\n",
       "      <th>26</th>\n",
       "      <td>chechnya-dmstf</td>\n",
       "      <td>Новые вертикали</td>\n",
       "      <td>AAA63</td>\n",
       "      <td>2020-01-08</td>\n",
       "      <td>26947517</td>\n",
       "      <td>1381135170</td>\n",
       "      <td>2020-03-17 21:45:11</td>\n",
       "      <td>NaN</td>\n",
       "      <td>o_pchosen</td>\n",
       "      <td>NaN</td>\n",
       "      <td>NaT</td>\n",
       "      <td>NaN</td>\n",
       "      <td>NaN</td>\n",
       "      <td>NaN</td>\n",
       "      <td>NaT</td>\n",
       "    </tr>\n",
       "    <tr>\n",
       "      <th>27</th>\n",
       "      <td>penza.mstr</td>\n",
       "      <td>«МастерДел»</td>\n",
       "      <td>AAA70</td>\n",
       "      <td>2020-02-01</td>\n",
       "      <td>26063163</td>\n",
       "      <td>1337092178</td>\n",
       "      <td>2020-02-10 13:57:02</td>\n",
       "      <td>NaN</td>\n",
       "      <td>o_pchosen</td>\n",
       "      <td>1.337132e+09</td>\n",
       "      <td>2020-02-10 14:15:56</td>\n",
       "      <td>&lt;b&gt;ev_code=r_zayavka, cancel_dt=2020-03-08 19:...</td>\n",
       "      <td>r_zayavka0</td>\n",
       "      <td>NaN</td>\n",
       "      <td>NaT</td>\n",
       "    </tr>\n",
       "    <tr>\n",
       "      <th>28</th>\n",
       "      <td>penza.mstr</td>\n",
       "      <td>«МастерДел»</td>\n",
       "      <td>AAA70</td>\n",
       "      <td>2020-02-01</td>\n",
       "      <td>26063163</td>\n",
       "      <td>1337092178</td>\n",
       "      <td>2020-02-10 13:57:02</td>\n",
       "      <td>NaN</td>\n",
       "      <td>o_pchosen</td>\n",
       "      <td>1.371271e+09</td>\n",
       "      <td>2020-03-08 19:56:11</td>\n",
       "      <td>&lt;b&gt;ev_code=r_order_refused, cancel_dt=2020-04-...</td>\n",
       "      <td>r_order_refused0</td>\n",
       "      <td>NaN</td>\n",
       "      <td>NaT</td>\n",
       "    </tr>\n",
       "  </tbody>\n",
       "</table>\n",
       "</div>"
      ],
      "text/plain": [
       "     order_city_id     project_name prep_id    prep_dt  order_id   invite_id  \\\n",
       "13      sochi.mstr      «МастерДел»   7774V 2020-01-23  26780723  1373455745   \n",
       "15   smolensk.krst  «Крэйс–Мастерс»     A-7 2020-01-13  26594715  1414247678   \n",
       "26  chechnya-dmstf  Новые вертикали   AAA63 2020-01-08  26947517  1381135170   \n",
       "27      penza.mstr      «МастерДел»   AAA70 2020-02-01  26063163  1337092178   \n",
       "28      penza.mstr      «МастерДел»   AAA70 2020-02-01  26063163  1337092178   \n",
       "\n",
       "             invite_dt invite_txt invite_code     answer_id  \\\n",
       "13 2020-03-10 22:04:07        NaN   o_pchosen  1.373464e+09   \n",
       "15 2020-04-29 12:15:19        NaN   o_pchosen           NaN   \n",
       "26 2020-03-17 21:45:11        NaN   o_pchosen           NaN   \n",
       "27 2020-02-10 13:57:02        NaN   o_pchosen  1.337132e+09   \n",
       "28 2020-02-10 13:57:02        NaN   o_pchosen  1.371271e+09   \n",
       "\n",
       "             answer_dt                                         answer_txt  \\\n",
       "13 2020-03-10 22:13:47            <div prch=7040>Не подходит бюджет</div>   \n",
       "15                 NaT                                                NaN   \n",
       "26                 NaT                                                NaN   \n",
       "27 2020-02-10 14:15:56  <b>ev_code=r_zayavka, cancel_dt=2020-03-08 19:...   \n",
       "28 2020-03-08 19:56:11  <b>ev_code=r_order_refused, cancel_dt=2020-04-...   \n",
       "\n",
       "         answer_code  nazn_id nazn_dt  \n",
       "13   r_order_refused      NaN     NaT  \n",
       "15               NaN      NaN     NaT  \n",
       "26               NaN      NaN     NaT  \n",
       "27        r_zayavka0      NaN     NaT  \n",
       "28  r_order_refused0      NaN     NaT  "
      ]
     },
     "execution_count": 51,
     "metadata": {},
     "output_type": "execute_result"
    }
   ],
   "source": [
    "column_names = ['order_city_id', 'project_name', 'prep_id', 'prep_dt', 'order_id', \n",
    "                'invite_id', 'invite_dt', 'invite_txt', 'invite_code', \n",
    "                'answer_id', 'answer_dt', 'answer_txt', 'answer_code', 'nazn_id', 'nazn_dt']\n",
    "\n",
    "df_all_preps = pandas.read_csv('invites_answers_events.tsv', delimiter='\\t', header=None, names = column_names, \n",
    "                     parse_dates = ['prep_dt', 'invite_dt', 'answer_dt', 'nazn_dt'])\n",
    "\n",
    "df = df_all_preps[df_all_preps['prep_dt'] >= '2020-01-01']\n",
    "print \"Число строк: \", len(df) # 76481\n",
    "df.head()"
   ]
  },
  {
   "cell_type": "markdown",
   "metadata": {},
   "source": [
    "## Сколько всего препов получают приглашения от клиента\n",
    "Под приглашениями имеются в виду нажатия на кнопку \"Предложить заказ\" и \"Написать сообщение\"<br><br>\n",
    "Чтобы понимать масштаб анализируемых заказов: <br>\n",
    "Всего __29% заказов__ имеют хотя бы 1 приглашение.\n",
    "<br><br>\n",
    "Посмотрим на соотношение типов ответов на приглашения:"
   ]
  },
  {
   "cell_type": "code",
   "execution_count": 112,
   "metadata": {
    "collapsed": false
   },
   "outputs": [
    {
     "name": "stdout",
     "output_type": "stream",
     "text": [
      "answer type\tanswers number\tanswers %\n",
      "No answer\t50137 \t61.64 %\n",
      "r_order_refused \t16841 \t20.7 %\n",
      "r_order_refused0 \t619 \t0.76 %\n",
      "r_zayavka \t12256 \t15.07 %\n",
      "r_zayavka0 \t1485 \t1.83 %\n"
     ]
    }
   ],
   "source": [
    "print 'answer type\\tanswers number\\tanswers %'\n",
    "\n",
    "df_first_answer = df.sort_values(['answer_dt']).groupby(['invite_id'])['answer_code'].agg(['first'])\n",
    "total = len(df_first_answer)\n",
    "no_answer = df_first_answer['first'].isnull().sum() # 50145\n",
    "print \"No answer\\t\", no_answer, '\\t', round(no_answer * 100. / total, 2), '%'\n",
    "\n",
    "df_first_answer_grouped = df_first_answer.groupby(['first'])['first'].count()\n",
    "for answer_code in df_first_answer_grouped.index:\n",
    "    print answer_code, '\\t', df_first_answer_grouped[answer_code], '\\t', \\\n",
    "    round(df_first_answer_grouped[answer_code] * 100. / total, 2), '%'"
   ]
  },
  {
   "cell_type": "markdown",
   "metadata": {},
   "source": [
    "61% приглашений остаются совсем без ответа :(\n",
    "<br>\n",
    "Отказов на 6% больше, чем положительных ответов: 22% против 16%."
   ]
  },
  {
   "cell_type": "code",
   "execution_count": 52,
   "metadata": {
    "collapsed": false
   },
   "outputs": [
    {
     "name": "stdout",
     "output_type": "stream",
     "text": [
      "Число уникальных препов за период:  23695\n"
     ]
    }
   ],
   "source": [
    "print 'Число уникальных препов за период: ', df.prep_id.nunique()"
   ]
  },
  {
   "cell_type": "code",
   "execution_count": 53,
   "metadata": {
    "collapsed": false
   },
   "outputs": [
    {
     "name": "stdout",
     "output_type": "stream",
     "text": [
      "Статистика числа приглашений на 1 препа:\n",
      "Percentile 25% =  1.0\n",
      "Percentile 50% =  2\n",
      "Percentile 75% =  3.0\n",
      "Percentile 95% =  11.0\n",
      "\n",
      "Average =  3.54\n",
      "MAX =  656\n",
      "Data len:  23695\n"
     ]
    },
    {
     "data": {
      "image/png": "[encoded data removed]",
      "text/plain": [
       "<matplotlib.figure.Figure at 0x12c4767d0>"
      ]
     },
     "metadata": {},
     "output_type": "display_data"
    }
   ],
   "source": [
    "print 'Статистика числа приглашений на 1 препа:'\n",
    "show_usual_stats(df.groupby(['prep_id'])['invite_id'].count())\n",
    "\n",
    "plt.figure(figsize=(12,5))\n",
    "df.groupby(['prep_id'])['invite_id'].count().plot.hist(bins = 25, range = (0,25))\n",
    "plt.title(\"Invitation number distribution\")\n",
    "plt.ylabel('preps number')\n",
    "plt.show()"
   ]
  },
  {
   "cell_type": "markdown",
   "metadata": {},
   "source": [
    "В гистограмме намеренно отрезан длиннющий хвост, потому что иначе не видно, что слева."
   ]
  },
  {
   "cell_type": "code",
   "execution_count": 54,
   "metadata": {
    "collapsed": false
   },
   "outputs": [
    {
     "name": "stdout",
     "output_type": "stream",
     "text": [
      "Препы, у которых максимальное количество приглашений:\n",
      "prep_id\n",
      "OzerovaZB2       656\n",
      "VaravkaVV2       385\n",
      "ErshovAS14       313\n",
      "KarimovSR4       248\n",
      "ErmakovaIM3      205\n",
      "KarimovShSh2     199\n",
      "KomissarovaVI    193\n",
      "MuradovEE3       186\n",
      "TlustenkoEE      182\n",
      "MaltsevaAA29     180\n",
      "Name: invite_id, dtype: int64\n"
     ]
    }
   ],
   "source": [
    "print 'Препы, у которых максимальное количество приглашений:'\n",
    "print df.groupby(['prep_id'])['invite_id'].count().sort_values(ascending=False)[:10]"
   ]
  },
  {
   "cell_type": "markdown",
   "metadata": {},
   "source": [
    "Очень подозрительная OzerovaZB2 (маникюр) - более 650 приглашений. А отправила она всего 38 заявок.<br>\n",
    "Посмотрим на неё поближе."
   ]
  },
  {
   "cell_type": "code",
   "execution_count": 55,
   "metadata": {
    "collapsed": false
   },
   "outputs": [
    {
     "data": {
      "image/png": "[encoded data removed]",
      "text/plain": [
       "<matplotlib.figure.Figure at 0x105cf0810>"
      ]
     },
     "metadata": {},
     "output_type": "display_data"
    }
   ],
   "source": [
    "ozerova = df[df['prep_id'] == 'OzerovaZB2']\n",
    "ozerova['invite_dt'] = ozerova['invite_dt'].dt.date\n",
    "\n",
    "ozerova_invites_per_day = []\n",
    "dates = [ozerova['invite_dt'].min() + timedelta(n) for n in range(58)]\n",
    "for single_date in dates: \n",
    "    ozerova_invites_per_day.append(ozerova[ozerova['invite_dt'] == single_date]['invite_id'].count()) \n",
    "\n",
    "plt.figure(figsize=(12,5))\n",
    "plt.plot(dates, ozerova_invites_per_day)\n",
    "plt.title('OzerovaZB2: Invites number per day')\n",
    "plt.show()"
   ]
  },
  {
   "cell_type": "markdown",
   "metadata": {},
   "source": [
    "**Загадка:** <br> Что случилось 13 апреля, после чего Озёрова стала получать по 40-50 приглашений в день? <br>\n",
    "**Отгадка:** <br> \n",
    "С 13 апреля в ранжировании стали давать сильный буст спецам, у которых указан \"web\" в анкете. А Озёрова - одна из немногих маникюрщиц, кто якобы оказывает услуги дистанционно. Поэтому она резко оказалась в топе и её стали выбирать благодаря повышенному спросу. <br>\n",
    "Этот баг оперативно поправили 30 апреля."
   ]
  },
  {
   "cell_type": "code",
   "execution_count": 56,
   "metadata": {
    "collapsed": false
   },
   "outputs": [
    {
     "name": "stdout",
     "output_type": "stream",
     "text": [
      "Процент препов, у которых всего 1 приглашение:  48.56 %\n"
     ]
    }
   ],
   "source": [
    "df_preps_invites_count = df.groupby(['prep_id'])['invite_id'].count()\n",
    "print 'Процент препов, у которых всего 1 приглашение: ', \\\n",
    "        round(len(df_preps_invites_count[df_preps_invites_count == 1])*100.0/df.prep_id.nunique(), 2), '%'"
   ]
  },
  {
   "cell_type": "markdown",
   "metadata": {},
   "source": [
    "## % отвеченных приглашений"
   ]
  },
  {
   "cell_type": "code",
   "execution_count": 57,
   "metadata": {
    "collapsed": true
   },
   "outputs": [],
   "source": [
    "## TESTING\n",
    "# prep_id = 'kosorukovAA4'\n",
    "# df[df['prep_id'] == prep_id]['answer_id'].isnull().sum() * 100.0 / df[df['prep_id'] == prep_id]['order_id'].count()"
   ]
  },
  {
   "cell_type": "code",
   "execution_count": 156,
   "metadata": {
    "collapsed": false
   },
   "outputs": [],
   "source": [
    "df_preps_answers_count = df[df['answer_id'] > 0].groupby(['prep_id'])['order_id'].nunique()\n",
    "df_preps_answers_percent = df_preps_answers_count * 100.0 / df_preps_invites_count"
   ]
  },
  {
   "cell_type": "code",
   "execution_count": 157,
   "metadata": {
    "collapsed": true
   },
   "outputs": [],
   "source": [
    "def show_hist_of_answer_percent(INVITES_N = 1):\n",
    "    answers_percent_list = []\n",
    "    for prep_id in df_preps_invites_count[df_preps_invites_count >= INVITES_N].index:\n",
    "        if df_preps_answers_percent[prep_id] > 0:\n",
    "            answers_percent_list.append(df_preps_answers_percent[prep_id])\n",
    "        else:\n",
    "            answers_percent_list.append(0)\n",
    "\n",
    "    show_usual_stats(answers_percent_list)\n",
    "    plt.figure(figsize=(12,5))\n",
    "    plt.hist(answers_percent_list, bins = 25)\n",
    "    plt.show()"
   ]
  },
  {
   "cell_type": "markdown",
   "metadata": {},
   "source": [
    "Смотрим препов, у которых хотя бы 1 приглашение (просто чтобы понять, какой беспорядок тут в распределении).<br>\n",
    "- Больше половины препов вообще не отвечают на приглашения.<br>\n",
    "- Видим небольшой пик на 50% (во многом это те, у кого 2 приглашения и 1 из них отвечено).<br>\n",
    "- Пик на 100% (во многом это те, у кого 1 приглашение и оно отвечено)."
   ]
  },
  {
   "cell_type": "code",
   "execution_count": 158,
   "metadata": {
    "collapsed": false
   },
   "outputs": [
    {
     "name": "stdout",
     "output_type": "stream",
     "text": [
      "Percentile 25% =  0.0\n",
      "Percentile 50% =  0\n",
      "Percentile 75% =  50.0\n",
      "Percentile 95% =  100.0\n",
      "\n",
      "Average =  27.71\n",
      "MAX =  100.0\n",
      "Data len:  23695\n"
     ]
    },
    {
     "data": {
      "image/png": "[encoded data removed]",
      "text/plain": [
       "<matplotlib.figure.Figure at 0x12c476e90>"
      ]
     },
     "metadata": {},
     "output_type": "display_data"
    }
   ],
   "source": [
    "show_hist_of_answer_percent(1)"
   ]
  },
  {
   "cell_type": "markdown",
   "metadata": {},
   "source": [
    "Теперь смотрим препов, у которых хотя бы 5 приглашений. (таких 14.5%)"
   ]
  },
  {
   "cell_type": "code",
   "execution_count": 159,
   "metadata": {
    "collapsed": false
   },
   "outputs": [
    {
     "name": "stdout",
     "output_type": "stream",
     "text": [
      "Percentile 25% =  5.33625730994\n",
      "Percentile 50% =  33.3333333333\n",
      "Percentile 75% =  60.0\n",
      "Percentile 95% =  85.7142857143\n",
      "\n",
      "Average =  36.25\n",
      "MAX =  100.0\n",
      "Data len:  3942\n"
     ]
    },
    {
     "data": {
      "image/png": "[encoded data removed]",
      "text/plain": [
       "<matplotlib.figure.Figure at 0x12b467bd0>"
      ]
     },
     "metadata": {},
     "output_type": "display_data"
    }
   ],
   "source": [
    "show_hist_of_answer_percent(5)"
   ]
  },
  {
   "cell_type": "markdown",
   "metadata": {},
   "source": [
    "Теперь смотрим препов, у которых хотя бы 20 приглашений. (таких 1.5%)<br>\n",
    "Здесь с большой натяжкой можно увидеть гаусса справа. <br>\n",
    "То есть, из тех препов, кто получает от 20 приглашений, есть относительно большая группа тех, кто вообще не отвечает (отвечаемость = 0%), и большая группа тех, у кого высокая отвечаемость (более 65%). "
   ]
  },
  {
   "cell_type": "code",
   "execution_count": 160,
   "metadata": {
    "collapsed": false
   },
   "outputs": [
    {
     "name": "stdout",
     "output_type": "stream",
     "text": [
      "Percentile 25% =  20.8333333333\n",
      "Percentile 50% =  54.2857142857\n",
      "Percentile 75% =  71.7948717949\n",
      "Percentile 95% =  85.8589511754\n",
      "\n",
      "Average =  47.06\n",
      "MAX =  95.652173913\n",
      "Data len:  473\n"
     ]
    },
    {
     "data": {
      "image/png": "[encoded data removed]",
      "text/plain": [
       "<matplotlib.figure.Figure at 0x12c6a3390>"
      ]
     },
     "metadata": {},
     "output_type": "display_data"
    }
   ],
   "source": [
    "show_hist_of_answer_percent(20)"
   ]
  },
  {
   "cell_type": "code",
   "execution_count": 161,
   "metadata": {
    "collapsed": false
   },
   "outputs": [],
   "source": [
    "# какой % препов, получивших хотя бы N приглашений?\n",
    "# N = 40\n",
    "# round(len(df_preps_invites_count[df_preps_invites_count >= N])*100.0/df.prep_id.nunique(), 2)"
   ]
  },
  {
   "cell_type": "markdown",
   "metadata": {},
   "source": [
    "Попробовала посчитать то же самое на выборке препов, зарегистрировавшихся с 1 января по 1 апреля (1 марта), <br>\n",
    "учитывать только тех, у кого было достаточно времени, чтобы получить хотя бы 1 приглашение. <br>\n",
    "Но по ним картинка очень мало отличается.\n"
   ]
  },
  {
   "cell_type": "code",
   "execution_count": 162,
   "metadata": {
    "collapsed": true
   },
   "outputs": [],
   "source": [
    "# берем выборку препов, зарегистрировавшихся с 2020-01-01 по 2020-04-01\n",
    "# print len(df[df['prep_dt'] < '2020-04-01'].groupby(['prep_id']).count())\n",
    "# 18284\n",
    "\n",
    "# df = df[df['prep_dt'] < '2020-03-01']\n",
    "##  ..."
   ]
  },
  {
   "cell_type": "markdown",
   "metadata": {},
   "source": [
    "## Распределение спецов по проценту положительных ответов\n",
    "\n",
    "Берем только тех спецов, у кого 5+ ответов."
   ]
  },
  {
   "cell_type": "code",
   "execution_count": 178,
   "metadata": {
    "collapsed": false
   },
   "outputs": [],
   "source": [
    "REPLIES_N = 5\n",
    "\n",
    "preps_filtered = df_preps_answers_count[df_preps_answers_count >= REPLIES_N]\n",
    "df_first_answer_by_prep = df[df['answer_id'] > 0].groupby(['prep_id', 'invite_id'])['answer_code'].agg(['first'])\n",
    "\n",
    "preps_positive_percents = {}\n",
    "\n",
    "for prep_id in preps_filtered.index.get_level_values(0):\n",
    "    prep_positive_n = df_first_answer_by_prep.loc[prep_id].isin(['r_zayavka', 'r_zayavka0']).sum()\n",
    "    prep_positive_percent = round(prep_positive_n * 100. / len(df_first_answer_by_prep.loc[prep_id]), 2)\n",
    "    preps_positive_percents[prep_id] = prep_positive_percent"
   ]
  },
  {
   "cell_type": "code",
   "execution_count": 179,
   "metadata": {
    "collapsed": false
   },
   "outputs": [
    {
     "name": "stdout",
     "output_type": "stream",
     "text": [
      "Статистика процента положительных ответов по спецам:\n",
      "Percentile 25% =  16.67\n",
      "Percentile 50% =  41.28\n",
      "Percentile 75% =  71.43\n",
      "Percentile 95% =  100.0\n",
      "\n",
      "Average =  44.85\n",
      "MAX =  100.0\n",
      "Data len:  1204\n"
     ]
    },
    {
     "data": {
      "image/png": "[encoded data removed]",
      "text/plain": [
       "<matplotlib.figure.Figure at 0x11f7fa250>"
      ]
     },
     "metadata": {},
     "output_type": "display_data"
    }
   ],
   "source": [
    "print \"Статистика процента положительных ответов по спецам:\"\n",
    "show_usual_stats(preps_positive_percents.values())\n",
    "\n",
    "plt.figure(figsize=(12,5))\n",
    "plt.hist(preps_positive_percents.values(), bins = 20)\n",
    "plt.show()"
   ]
  },
  {
   "cell_type": "markdown",
   "metadata": {},
   "source": [
    "Ожидала увидеть хоть какое-то подобие Гаусса, но тут его нет. Зато заметны пики на 0 и 100 (то, кто всегда отказывает и всегда соглашается)."
   ]
  },
  {
   "cell_type": "markdown",
   "metadata": {},
   "source": [
    "## Среднее время ответа по препам"
   ]
  },
  {
   "cell_type": "markdown",
   "metadata": {},
   "source": [
    "Оставляем в табличке только время первого приглашения и время первого ответа на него (приглашения без ответа не учитываются).<br>\n",
    "Считаем разницу между приглашением и ответом, записываем в минутах"
   ]
  },
  {
   "cell_type": "code",
   "execution_count": 65,
   "metadata": {
    "collapsed": false
   },
   "outputs": [
    {
     "data": {
      "text/html": [
       "<div>\n",
       "<table border=\"1\" class=\"dataframe\">\n",
       "  <thead>\n",
       "    <tr style=\"text-align: right;\">\n",
       "      <th></th>\n",
       "      <th></th>\n",
       "      <th></th>\n",
       "      <th>min</th>\n",
       "      <th>minutes_diff</th>\n",
       "    </tr>\n",
       "    <tr>\n",
       "      <th>prep_id</th>\n",
       "      <th>order_id</th>\n",
       "      <th>invite_dt</th>\n",
       "      <th></th>\n",
       "      <th></th>\n",
       "    </tr>\n",
       "  </thead>\n",
       "  <tbody>\n",
       "    <tr>\n",
       "      <th>AaaaaaSA</th>\n",
       "      <th>27446990</th>\n",
       "      <th>2020-04-23 22:05:39</th>\n",
       "      <td>00:11:23</td>\n",
       "      <td>11.4</td>\n",
       "    </tr>\n",
       "    <tr>\n",
       "      <th>AbaevDA2</th>\n",
       "      <th>27778486</th>\n",
       "      <th>2020-05-05 10:33:05</th>\n",
       "      <td>00:04:39</td>\n",
       "      <td>4.6</td>\n",
       "    </tr>\n",
       "    <tr>\n",
       "      <th>AbaevEA</th>\n",
       "      <th>27144029</th>\n",
       "      <th>2020-03-28 08:25:29</th>\n",
       "      <td>05:48:15</td>\n",
       "      <td>348.2</td>\n",
       "    </tr>\n",
       "    <tr>\n",
       "      <th>AbakargadzhievaDSh</th>\n",
       "      <th>27250774</th>\n",
       "      <th>2020-04-04 15:37:27</th>\n",
       "      <td>00:28:38</td>\n",
       "      <td>28.6</td>\n",
       "    </tr>\n",
       "    <tr>\n",
       "      <th>AbakumovAK</th>\n",
       "      <th>27675550</th>\n",
       "      <th>2020-04-28 14:37:58</th>\n",
       "      <td>04:34:26</td>\n",
       "      <td>274.4</td>\n",
       "    </tr>\n",
       "    <tr>\n",
       "      <th>AbankinaAD</th>\n",
       "      <th>26185151</th>\n",
       "      <th>2020-02-15 20:32:18</th>\n",
       "      <td>10:39:47</td>\n",
       "      <td>639.8</td>\n",
       "    </tr>\n",
       "  </tbody>\n",
       "</table>\n",
       "</div>"
      ],
      "text/plain": [
       "                                                     min  minutes_diff\n",
       "prep_id            order_id invite_dt                                 \n",
       "AaaaaaSA           27446990 2020-04-23 22:05:39 00:11:23          11.4\n",
       "AbaevDA2           27778486 2020-05-05 10:33:05 00:04:39           4.6\n",
       "AbaevEA            27144029 2020-03-28 08:25:29 05:48:15         348.2\n",
       "AbakargadzhievaDSh 27250774 2020-04-04 15:37:27 00:28:38          28.6\n",
       "AbakumovAK         27675550 2020-04-28 14:37:58 04:34:26         274.4\n",
       "AbankinaAD         26185151 2020-02-15 20:32:18 10:39:47         639.8"
      ]
     },
     "execution_count": 65,
     "metadata": {},
     "output_type": "execute_result"
    }
   ],
   "source": [
    "df_answered_invites = df[df['answer_id'] > 0]\n",
    "df_first_invites = df_answered_invites.groupby(['prep_id', 'order_id', 'invite_dt'])['invite_dt'].agg(['min'])\n",
    "df_first_answers = df_answered_invites.groupby(['prep_id', 'order_id', 'invite_dt'])['answer_dt'].agg(['min'])\n",
    "\n",
    "df_answers_diffs = df_first_answers - df_first_invites\n",
    "df_answers_diffs['minutes_diff'] = df_answers_diffs['min'].dt.total_seconds() / 60\n",
    "df_answers_diffs['minutes_diff'] = df_answers_diffs['minutes_diff'].round(1)\n",
    "df_answers_diffs[5:11]"
   ]
  },
  {
   "cell_type": "code",
   "execution_count": 66,
   "metadata": {
    "collapsed": false
   },
   "outputs": [],
   "source": [
    "median_answer_time = df_answers_diffs.groupby(level = 0).median()\n",
    "mean_answer_time = df_answers_diffs.groupby(level = 0).mean()"
   ]
  },
  {
   "cell_type": "code",
   "execution_count": 67,
   "metadata": {
    "collapsed": false
   },
   "outputs": [
    {
     "name": "stdout",
     "output_type": "stream",
     "text": [
      "Распределение среднего и медианного времени ответов (отрезаем хвост после 100)\n",
      "Percentile 25% =  [ 22.8]\n",
      "Percentile 50% =  [ 82.5]\n",
      "Percentile 75% =  [ 724.35]\n",
      "Percentile 95% =  [ 11331.3]\n",
      "\n",
      "Average =  2301.3\n",
      "MAX =  [ 140170.]\n",
      "Data len:  9685\n"
     ]
    },
    {
     "data": {
      "image/png": "[encoded data removed]",
      "text/plain": [
       "<matplotlib.figure.Figure at 0x11e92b7d0>"
      ]
     },
     "metadata": {},
     "output_type": "display_data"
    }
   ],
   "source": [
    "MAX_VALUE = 100\n",
    "print \"Распределение среднего и медианного времени ответов (отрезаем хвост после {0})\".format(MAX_VALUE)\n",
    "\n",
    "show_usual_stats(median_answer_time.values)\n",
    "\n",
    "plt.figure(figsize=(17,5))\n",
    "plt.hist(median_answer_time.values, bins = 100, alpha=0.5, label='median', range = (0,MAX_VALUE))\n",
    "plt.hist(mean_answer_time.values, bins = 100, alpha=0.5, label='mean', range = (0,MAX_VALUE))\n",
    "plt.legend(loc='upper right')\n",
    "plt.title('Median and average reply time distribution')\n",
    "plt.xlabel('Reply time (minutes)')\n",
    "plt.ylabel('Preps number')\n",
    "plt.show()"
   ]
  },
  {
   "cell_type": "markdown",
   "metadata": {},
   "source": [
    "**Загадка:** <br>Откуда взялся такой жирный пик на 23-25 минутах?<br>\n",
    "**Отгадка:** <br> \n",
    "Это реакция на смс. Когда спецу приходит приглашение, сначала отправляются бесплатные уведомления - email и пуш. И если в течение 20 минут не было реакции (спец увидел заказаи и нажал в нем что-то), то отправляется еще и смс. Смс - это мощный пинок, пробивающий даже тех, кому лень. \n",
    "\n",
    "(стоит иметь в виду, что с 21.04 13:40 активен [АБ-тест](https://repetitors.info/admin/aforum/?t=155747), который отменяет часть СМС)"
   ]
  },
  {
   "cell_type": "markdown",
   "metadata": {},
   "source": [
    "## Отличается ли среднее время положительных ответов и отказов?"
   ]
  },
  {
   "cell_type": "code",
   "execution_count": 113,
   "metadata": {
    "collapsed": true
   },
   "outputs": [],
   "source": [
    "# Отказы\n",
    "\n",
    "df_answered_invites_no = df[(df['answer_id'] > 0) & (df['answer_code'].isin(['r_order_refused', 'r_order_refused0']))]\n",
    "df_first_invites_no = df_answered_invites_no.groupby(['prep_id', 'order_id', 'invite_dt'])['invite_dt'].agg(['min'])\n",
    "df_first_answers_no = df_answered_invites_no.groupby(['prep_id', 'order_id', 'invite_dt'])['answer_dt'].agg(['min'])\n",
    "\n",
    "df_answers_diffs_no = df_first_answers_no - df_first_invites_no\n",
    "df_answers_diffs_no['minutes_diff'] = df_answers_diffs_no['min'].dt.total_seconds() / 60\n",
    "df_answers_diffs_no['minutes_diff'] = df_answers_diffs_no['minutes_diff'].round(1)\n",
    "\n",
    "median_answer_time_no = df_answers_diffs_no.groupby(level = 0).median()\n",
    "\n",
    "# Положительные ответы\n",
    "\n",
    "df_answered_invites_yes = df[(df['answer_id'] > 0) & (df['answer_code'].isin(['r_zayavka', 'r_zayavka0']))]\n",
    "df_first_invites_yes = df_answered_invites_yes.groupby(['prep_id', 'order_id', 'invite_dt'])['invite_dt'].agg(['min'])\n",
    "df_first_answers_yes = df_answered_invites_yes.groupby(['prep_id', 'order_id', 'invite_dt'])['answer_dt'].agg(['min'])\n",
    "\n",
    "df_answers_diffs_yes = df_first_answers_yes - df_first_invites_yes\n",
    "df_answers_diffs_yes['minutes_diff'] = df_answers_diffs_yes['min'].dt.total_seconds() / 60\n",
    "df_answers_diffs_yes['minutes_diff'] = df_answers_diffs_yes['minutes_diff'].round(1)\n",
    "\n",
    "median_answer_time_yes = df_answers_diffs_yes.groupby(level = 0).median()"
   ]
  },
  {
   "cell_type": "code",
   "execution_count": 114,
   "metadata": {
    "collapsed": false
   },
   "outputs": [
    {
     "name": "stdout",
     "output_type": "stream",
     "text": [
      "Распределение медианного времени положительных и отрицательных ответов (отрезаем хвост после 100)\n",
      "\n",
      "Статистика положительных ответов:\n",
      "Percentile 25% =  [ 16.4]\n",
      "Percentile 50% =  [ 47.6]\n",
      "Percentile 75% =  [ 301.1]\n",
      "Percentile 95% =  [ 3666.1625]\n",
      "\n",
      "Average =  851.4\n",
      "MAX =  [ 96060.8]\n",
      "Data len:  5194\n",
      "\n",
      "Статистика отказов:\n",
      "Percentile 25% =  [ 26.6]\n",
      "Percentile 50% =  [ 181.4]\n",
      "Percentile 75% =  [ 1883.15]\n",
      "Percentile 95% =  [ 19918.34]\n",
      "\n",
      "Average =  3708.16\n",
      "MAX =  [ 140170.]\n",
      "Data len:  7003\n"
     ]
    },
    {
     "data": {
      "image/png": "[encoded data removed]",
      "text/plain": [
       "<matplotlib.figure.Figure at 0x122ef0b50>"
      ]
     },
     "metadata": {},
     "output_type": "display_data"
    }
   ],
   "source": [
    "MAX_VALUE = 100\n",
    "print \"Распределение медианного времени положительных и отрицательных ответов (отрезаем хвост после {0})\".format(MAX_VALUE)\n",
    "\n",
    "print '\\nСтатистика положительных ответов:'\n",
    "show_usual_stats(median_answer_time_yes.values)\n",
    "\n",
    "print '\\nСтатистика отказов:'\n",
    "show_usual_stats(median_answer_time_no.values)\n",
    "\n",
    "plt.figure(figsize=(17,5))\n",
    "\n",
    "plt.hist(median_answer_time_yes.values, bins = 100, alpha=0.5, label='YES', range = (0,MAX_VALUE))\n",
    "plt.hist(median_answer_time_no.values, bins = 100, alpha=0.5, label='NO', range = (0,MAX_VALUE))\n",
    "\n",
    "plt.legend(loc='upper right')\n",
    "plt.title('Median reply time distribution')\n",
    "plt.xlabel('Reply time (minutes)')\n",
    "plt.ylabel('Preps number')\n",
    "plt.show()"
   ]
  },
  {
   "cell_type": "markdown",
   "metadata": {},
   "source": [
    "Ага! Положительный ответ в среднем в 3,5 раза быстрее, чем отказ. <br>\n",
    "То есть, решение о том, что заказ подходящий и надо отправить заявку, спецы принимают относительно быстро. А вот если заказ не подходит, то спецы дольше думают, прежде чем отправить отказ. И как раз \"отказники\" формируют бОльшую часть пика на 22 минутах (реакция на смс). \n",
    "<br><br>\n",
    "*Можно ли из этого извлечь какой-нибудь продуктовый инсайт...*"
   ]
  },
  {
   "cell_type": "markdown",
   "metadata": {},
   "source": [
    "## Сколько надо приглашений, чтобы считать, что отвечаемость есть и она адекватна"
   ]
  },
  {
   "cell_type": "markdown",
   "metadata": {},
   "source": [
    "Концептуально мы хотели держать два числа: метрика + наша уверенность в том, что она такая.\n",
    "Видимо \"уверенность\" это и есть количество приглашений. Чем их больше, тем уверенность выше. Надо понять, при каком числе приглашений это  устоявшаяся статистика, при каком числе приглашений это просто случайное число.<br>\n",
    "\n",
    "Сначала смотрим только спецов, у которых 20+ ответов. Таких спецов всего 190 человек (это 0.8% выборки). Но на них хорошо видно динамику."
   ]
  },
  {
   "cell_type": "code",
   "execution_count": 69,
   "metadata": {
    "collapsed": false
   },
   "outputs": [],
   "source": [
    "# ## В этом блоке мои рассуждения и путь как я пришла к итоговым графикам. \n",
    "\n",
    "# # ## 1. \n",
    "# # Посчитаем изменение медианы времени ответа у каждого спеца и выведем это на один график \n",
    "# # (я попробовала также среднее и стандартное отклонение, там совсем дикость). Хотим посмотреть, \n",
    "# # а медианное время вообще хоть у кого-то устаканивается, или всегда дико скачет?\n",
    "# # <br><br>\n",
    "# # Ограничила потолок графика 100 минутами, иначе есть гиганские выбросы (90 дней например), из-за которых ничего не видно.\n",
    "\n",
    "# # plt.figure(figsize=(17,5))\n",
    "# # plt.xlim(0, 60)\n",
    "# # plt.ylim(0, 100)\n",
    "\n",
    "# # preps_filtered = df_preps_answers_count[df_preps_answers_count >= INVITES_N]\n",
    "\n",
    "# # for prep_id in preps_filtered.index[:25]: \n",
    "# #     prep_minutes_diff = df_answers_diffs.loc[prep_id].sort_index(level = 'invite_dt')['minutes_diff']\n",
    "# #     x = range(len(prep_minutes_diff)) \n",
    "# #     y = []\n",
    "# #     for i in x:\n",
    "# #         y.append(prep_minutes_diff[:i+1].median())\n",
    "# #     plt.plot(x,y)\n",
    "\n",
    "# # plt.title(\"Median reply time change over invites number\")\n",
    "# # plt.xlabel(\"Invites number\")\n",
    "# # plt.ylabel(\"Minutes\")\n",
    "# # plt.show()\n",
    "\n",
    "# Здесь выборка всего из 25 человек, чтобы посмотреть глазками.<br>\n",
    "# По графику видно лишь то, что есть некоторые спецы, у которых медиана выравнивается и становится красиво-плавной. \n",
    "# Особенно у тех, кто ответил более 30 раз. \n",
    "\n",
    "# ## 2. \n",
    "# Посчитаем разницу между текущей медианой времени по спецу и предыдущей (то есть график модуля разницы между медианой \n",
    "# времени на день N, и день N-1). <br>\n",
    "# Надежда на то, что со временем у всех спецов этот график будет ползти около нуля\n",
    "\n",
    "# plt.figure(figsize=(17,5))\n",
    "# plt.xlim(0, 80)\n",
    "# plt.ylim(0, 80)\n",
    "\n",
    "# preps_filtered = df_preps_answers_count[df_preps_answers_count >= INVITES_N]\n",
    "\n",
    "# for prep_id in preps_filtered.index[:15]:    \n",
    "#     prep_minutes_diff = df_answers_diffs.loc[prep_id].sort_index(level = 'invite_dt')['minutes_diff']\n",
    "#     x = range( len(prep_minutes_diff)) # \n",
    "#     y = []\n",
    "#     previous_median = 0\n",
    "#     for i in x:\n",
    "#         current_median = prep_minutes_diff[:i+1].median()\n",
    "#         median_diff = abs(current_median - previous_median)\n",
    "#         y.append(median_diff)\n",
    "#         previous_median = current_median\n",
    "#     plt.plot(x,y)\n",
    "\n",
    "# plt.title(\"Median reply time **variability** over invites number\")\n",
    "# plt.xlabel(\"Invites number\")\n",
    "# plt.ylabel(\"Minutes\")\n",
    "# plt.show()\n",
    "\n",
    "# Действительно есть те, у кого этот график ползёт у нуля, надо понять, какой процент таких спецов, и построить по ним \n",
    "# некий обобщенный график.\n",
    "# **(done, см. пункт 6)**\n",
    "\n",
    "# ## 3.\n",
    "# Смотрим на процент ответов по препам, изменяющийся со временем\n",
    "\n",
    "# plt.figure(figsize=(12,5))\n",
    "# plt.xlim(0, 60)\n",
    "\n",
    "# preps_filtered = df_preps_answers_count[df_preps_answers_count >= INVITES_N]\n",
    "\n",
    "# for prep_id in preps_filtered.index[:20]:   \n",
    "#     cols = ['order_id', 'invite_dt', 'answer_id']\n",
    "#     some_prep_df = df[df['prep_id'] == prep_id][cols].groupby(['order_id']).first().sort_index(level = 'invite_dt')\n",
    "#     x = range(1, len(some_prep_df))\n",
    "#     y = []\n",
    "#     for i in x:\n",
    "#         some_prep_df_part = some_prep_df[:i]\n",
    "#         y.append(len(some_prep_df_part[some_prep_df_part['answer_id'] > 0]) * 100.0 / i)\n",
    "#     plt.plot(x,y)\n",
    "\n",
    "# plt.title(\"Reply rate change over invites number\")\n",
    "# plt.xlabel(\"Invites number\")\n",
    "# plt.ylabel(\"Reply rate\")\n",
    "# plt.show()\n",
    "\n",
    "# Ничего не понятно, но надо было убедиться. Кажется, что эта метрика у многих всё-таки выправляется \n",
    "# и не так сильно скачет, как медиана времени. <br>\n",
    "# Смотрим следующий график.\n",
    "\n",
    "# ## 4.\n",
    "# Посчитаем разницу между текущим процентом отвечаемости по спецу и предыдущим \n",
    "# (то есть график модуля разницы между процентом отвечаемости на день N, и день N-1).<br>\n",
    "# Надежда на то, что со временем у всех спецов этот график будет ползти около нуля \n",
    "\n",
    "# plt.figure(figsize=(17,5))\n",
    "# plt.xlim(0, 25)\n",
    "\n",
    "# preps_filtered = df_preps_answers_count[df_preps_answers_count >= INVITES_N]\n",
    "\n",
    "# for prep_id in preps_filtered.index:   \n",
    "#     cols = ['order_id', 'invite_dt', 'answer_id']\n",
    "#     some_prep_df = df[df['prep_id'] == prep_id][cols].groupby(['order_id']).first().sort_index(level = 'invite_dt')\n",
    "#     x = range(1, len(some_prep_df))\n",
    "#     y = []\n",
    "#     previous_percent = 0\n",
    "#     for i in x:\n",
    "#         some_prep_df_part = some_prep_df[:i]\n",
    "#         current_percent = len(some_prep_df_part[some_prep_df_part['answer_id'] > 0]) * 100.0 / i\n",
    "#         percent_diff = abs(current_percent - previous_percent)\n",
    "#         y.append(percent_diff)\n",
    "#         previous_percent = current_percent\n",
    "#     plt.plot(x,y)\n",
    "\n",
    "# plt.title(\"Reply rate **variability** over invites number\")\n",
    "# plt.xlabel(\"Invites number\")\n",
    "# plt.ylabel(\"Reply rate variability\")\n",
    "# plt.grid(True)\n",
    "# plt.show()\n",
    "\n",
    "# Так-так, посмотрим пристальнее на участок после 5-го ответа:\n",
    "\n",
    "# INVITES_N = 20\n",
    "\n",
    "# plt.figure(figsize=(17,5))\n",
    "# plt.xlim(5, 25)\n",
    "# plt.ylim(0, 20)\n",
    "\n",
    "# preps_filtered = df_preps_answers_count[df_preps_answers_count >= INVITES_N]\n",
    "\n",
    "# for prep_id in preps_filtered.index:   \n",
    "#     cols = ['order_id', 'invite_dt', 'answer_id']\n",
    "#     some_prep_df = df[df['prep_id'] == prep_id][cols].groupby(['order_id']).first().sort_index(level = 'invite_dt')\n",
    "#     x = range(1, len(some_prep_df))\n",
    "#     y = []\n",
    "#     previous_percent = 0\n",
    "#     for i in x:\n",
    "#         some_prep_df_part = some_prep_df[:i]\n",
    "#         current_percent = len(some_prep_df_part[some_prep_df_part['answer_id'] > 0]) * 100.0 / i\n",
    "#         percent_diff = abs(current_percent - previous_percent)\n",
    "#         y.append(percent_diff)\n",
    "#         previous_percent = current_percent\n",
    "#     plt.plot(x,y)\n",
    "\n",
    "# plt.title(\"Reply rate **variability** over invites number (only after 5th invite)\")\n",
    "# plt.xlabel(\"Invites number\")\n",
    "# plt.ylabel(\"Reply rate variability\")\n",
    "# plt.grid(True)\n",
    "# plt.show()\n",
    "\n",
    "# Красота.<br>\n",
    "# Но что это такое? \n",
    "# - Берем спецов, у которых как минимум 20 ответов на приглашения.\n",
    "# - Считаем по каждому спецу процент ответов после каждого нового приглашения. \n",
    "# (У всех эта цифра начинается либо с 0%, либо с 100%. Со вторым ответом появляются те, у кого 50%. \n",
    "# И дальше постепенно всё больше разнообразия.\n",
    "# - Считаем по каждому спецу, на сколько процентных пунктов изменилась его отвечаемость. \n",
    "# Предполагаем, что чем больше ответов, тем меньше будет скакать эта метрика.\n",
    "# - Получаем много красивых линий по всем спецам. Теперь надо вычислить среднее между ними.\n",
    "\n",
    "# Конкретно в этой микро-выборке спецов начиная с 5-го ответа метрика отвечаемости скачет в пределах 20%, \n",
    "# и чем дальше - тем меньше скачки. После 10-го ответа скачки в пределах 10%. После 19-го в пределах 5%. <br>\n",
    "\n",
    "\n",
    "# Нюанс: здесь учитывается вся история ответов спеца. А что если учитывать не все ответы, а только последние N?? \n",
    "# **<span style=\"color:red\">TODO</span>**\n",
    "                                                                              \n",
    "#                                                                               ## 5.\n",
    "# Выше мы смотрели на графики каждого спеца по отдельности. Попробуем аппроксимировать и посмотреть на \"среднее\". <br>\n",
    "# На самом деле это единственный график, на который теперь стоит смотреть. \n",
    "# Предыдущие отражают лишь путь, как я пришла к этому.<br>\n",
    "# <br>"
   ]
  },
  {
   "cell_type": "code",
   "execution_count": 70,
   "metadata": {
    "collapsed": false
   },
   "outputs": [
    {
     "data": {
      "image/png": "[encoded data removed]",
      "text/plain": [
       "<matplotlib.figure.Figure at 0x11f4658d0>"
      ]
     },
     "metadata": {},
     "output_type": "display_data"
    }
   ],
   "source": [
    "INVITES_N = 20\n",
    "MAX_REPLY_NUMBER = 40\n",
    "\n",
    "x = range(1, MAX_REPLY_NUMBER)\n",
    "preps_reply_rates_by_reply_number = {} \n",
    "for i in x:\n",
    "    preps_reply_rates_by_reply_number[i] = []\n",
    "\n",
    "plt.figure(figsize=(17,5))\n",
    "plt.xlim(0, MAX_REPLY_NUMBER)\n",
    "\n",
    "preps_filtered = df_preps_answers_count[df_preps_answers_count >= INVITES_N]\n",
    "\n",
    "for prep_id in preps_filtered.index:   \n",
    "    cols = ['order_id', 'invite_dt', 'answer_id']\n",
    "    some_prep_df = df[df['prep_id'] == prep_id][cols].groupby(['order_id']).first().sort_index(level = 'invite_dt')\n",
    "    previous_percent = 0\n",
    "    for i in range(1, min(MAX_REPLY_NUMBER, len(some_prep_df))):\n",
    "        some_prep_df_part = some_prep_df[:i]\n",
    "        current_percent = len(some_prep_df_part[some_prep_df_part['answer_id'] > 0]) * 100.0 / i\n",
    "        percent_diff = abs(current_percent - previous_percent)\n",
    "        preps_reply_rates_by_reply_number[i].append(percent_diff)\n",
    "        previous_percent = current_percent\n",
    "    \n",
    "# берем МЕДИАНУ разниц по каждому N-ому ответу\n",
    "medians_y = []\n",
    "for i in x[1:]:\n",
    "    medians_y.append(percentile(sorted(preps_reply_rates_by_reply_number[i]), 0.5))  \n",
    "plt.plot(x[1:], medians_y, label='medians')\n",
    "    \n",
    "# берем СРЕДНЕЕ разниц по каждому N-ому ответу\n",
    "averages_y = []\n",
    "for i in x[1:]:\n",
    "    averages_y.append(avg(preps_reply_rates_by_reply_number[i]))\n",
    "plt.plot(x[1:], averages_y, label='averages')\n",
    "\n",
    "plt.title(\"Reply rate **variability** over invites number (preps with 20+ replies)\")\n",
    "plt.xlabel(\"Invites number\")\n",
    "plt.ylabel(\"Reply rate variability\")\n",
    "plt.legend(loc='upper right')\n",
    "plt.grid(True)\n",
    "plt.show()"
   ]
  },
  {
   "cell_type": "markdown",
   "metadata": {},
   "source": [
    "График начинается не с 0 и даже не с 1, потому что изменяемость метрики можно посчитать только после второго инвайта. <br>\n",
    "Медиана на 2 и 3 ответах равна 0 потому, что больше половины спецов либо вообще не отвечают на приглашения (и тогда отвечаемость стабильно = 0), либо отвечают на все (и тогда отвечаемость стабильно = 1). \n",
    "<br><br>\n",
    "Расширяем выборку! Теперь смотрим тех, у кого 4+ инвайтов (а не 20+ ответов). "
   ]
  },
  {
   "cell_type": "code",
   "execution_count": 71,
   "metadata": {
    "collapsed": false
   },
   "outputs": [
    {
     "data": {
      "image/png": "[encoded data removed]",
      "text/plain": [
       "<matplotlib.figure.Figure at 0x11e83aad0>"
      ]
     },
     "metadata": {},
     "output_type": "display_data"
    }
   ],
   "source": [
    "INVITES_N = 4\n",
    "MAX_REPLY_NUMBER = 40\n",
    "\n",
    "x = range(1, MAX_REPLY_NUMBER)\n",
    "preps_reply_rates_by_reply_number = {} \n",
    "for i in x:\n",
    "    preps_reply_rates_by_reply_number[i] = []\n",
    "\n",
    "plt.figure(figsize=(17,5))\n",
    "plt.xlim(0, MAX_REPLY_NUMBER)\n",
    "\n",
    "preps_filtered = df_preps_invites_count[df_preps_invites_count >= INVITES_N]\n",
    "\n",
    "for prep_id in preps_filtered.index:   \n",
    "    cols = ['order_id', 'invite_dt', 'answer_id']\n",
    "    some_prep_df = df[df['prep_id'] == prep_id][cols].groupby(['order_id']).first().sort_index(level = 'invite_dt')\n",
    "    previous_percent = 0\n",
    "    for i in range(1, min(MAX_REPLY_NUMBER, len(some_prep_df))):\n",
    "        some_prep_df_part = some_prep_df[:i]\n",
    "        current_percent = len(some_prep_df_part[some_prep_df_part['answer_id'] > 0]) * 100.0 / i\n",
    "        percent_diff = abs(current_percent - previous_percent)\n",
    "        preps_reply_rates_by_reply_number[i].append(percent_diff)\n",
    "        previous_percent = current_percent\n",
    "    \n",
    "# берем МЕДИАНУ разниц по каждому N-ому ответу\n",
    "medians_y = []\n",
    "for i in x[1:]:\n",
    "    medians_y.append(percentile(sorted(preps_reply_rates_by_reply_number[i]), 0.5))  \n",
    "plt.plot(x[1:], medians_y, label='medians')\n",
    "    \n",
    "# берем СРЕДНЕЕ разниц по каждому N-ому ответу\n",
    "averages_y = []\n",
    "for i in x[1:]:\n",
    "    averages_y.append(avg(preps_reply_rates_by_reply_number[i]))\n",
    "plt.plot(x[1:], averages_y, label='averages')\n",
    "\n",
    "plt.title(\"Reply rate **variability** over invites number (preps with 4+ invites)\")\n",
    "plt.xlabel(\"Invites number\")\n",
    "plt.ylabel(\"Reply rate variability\")\n",
    "plt.legend(loc='upper right')\n",
    "plt.grid(True)\n",
    "plt.show()"
   ]
  },
  {
   "cell_type": "markdown",
   "metadata": {},
   "source": [
    "Ура! Динамика почти не отличается от выборки, где 20+ ответов.\n",
    "### Вывод:\n",
    "Здесь я бы ориентировалась на среднее, а не на медиану, потому что выбросы тоже важны, особенно на начальном участке. <br>\n",
    "Начиная с 5 приглашения метрика отвечаемости скачет в средних пределах 6%. Если для нас это допустимо, то можем начинать учитывать отвечаемость после 5 инвайта. И соответственно, чем дальше, тем меньше пределы скачков.\n"
   ]
  },
  {
   "cell_type": "code",
   "execution_count": 72,
   "metadata": {
    "collapsed": false
   },
   "outputs": [],
   "source": [
    "# ## А на каком количестве данных построен график выше?\n",
    "\n",
    "# datalen_y = []\n",
    "# for i in x:\n",
    "#     datalen_y.append(len(preps_reply_rates_by_reply_number[i]))  \n",
    "    \n",
    "# plt.figure(figsize=(17,2.5))\n",
    "# plt.ylim(0, max(datalen_y)+10)\n",
    "# plt.plot(x, datalen_y)\n",
    "\n",
    "# plt.title(\"Data quantity over invites number\")\n",
    "# plt.xlabel(\"Invites number\")\n",
    "# plt.ylabel(\"Preps\")\n",
    "# plt.grid(True)\n",
    "# plt.show()\n",
    "\n",
    "# На входе получается 4739 спецов, то есть 21% от изначальной выборки. Напомню, это те, кто получил 4+ инвайтов. \n",
    "# (поэтому такое плавное начало на участке 1-3 (кажется, у меня есть какая-то ошибка, \n",
    "# потому что график должен быть совсем плоским на участке 1-4, а это не так)!!!!!! **<span style=\"color:red\">TODO</span>**\n",
    "# <br>"
   ]
  },
  {
   "cell_type": "markdown",
   "metadata": {},
   "source": [
    "Посмотрим на такой же график по медианному/среднему времени ответа.<br>\n",
    "Тут уже важно число ответов, а не инвайтов, потому что если было 20 инвайтов, но ни одного ответа, то мы ничего не посчитаем.<br><br>\n",
    "В среднем слишком большие выбросы. Попробуем посчитать усеченное среднее, где отрежем 5% сверху. (Далее будем преимущественно \n",
    "считать усеченное среднее на графиках)."
   ]
  },
  {
   "cell_type": "code",
   "execution_count": 31,
   "metadata": {
    "collapsed": false
   },
   "outputs": [
    {
     "data": {
      "image/png": "[encoded data removed]",
      "text/plain": [
       "<matplotlib.figure.Figure at 0x12eecaad0>"
      ]
     },
     "metadata": {},
     "output_type": "display_data"
    }
   ],
   "source": [
    "INVITES_N = 4\n",
    "MAX_REPLY_NUMBER = 40\n",
    "\n",
    "x = range(1, MAX_REPLY_NUMBER)\n",
    "preps_reply_time_by_reply_number = {} \n",
    "for i in x:\n",
    "    preps_reply_time_by_reply_number[i] = []\n",
    "\n",
    "plt.figure(figsize=(17,5))\n",
    "plt.xlim(0, MAX_REPLY_NUMBER)\n",
    "plt.ylim(0, 70) \n",
    "\n",
    "preps_filtered = df_preps_answers_count[df_preps_answers_count >= INVITES_N]\n",
    "\n",
    "for prep_id in preps_filtered.index:    \n",
    "    prep_minutes_diff = df_answers_diffs.loc[prep_id].sort_index(level = 'invite_dt')['minutes_diff']\n",
    "    previous_median = 0\n",
    "    for i in range(1, min(MAX_REPLY_NUMBER, len(prep_minutes_diff))):\n",
    "        current_median = prep_minutes_diff[:i+1].median()\n",
    "        median_diff = abs(current_median - previous_median)\n",
    "        preps_reply_time_by_reply_number[i].append(median_diff)\n",
    "        previous_median = current_median\n",
    "    \n",
    "# берем МЕДИАНУ разниц по каждому N-ому ответу\n",
    "medians_y = []\n",
    "for i in x[1:]:\n",
    "    medians_y.append(percentile(sorted(preps_reply_time_by_reply_number[i]), 0.5))  \n",
    "plt.plot(x[1:], medians_y, label='medians')\n",
    "    \n",
    "# берем УСЕЧЕННОЕ СРЕДНЕЕ разниц по каждому N-ому ответу\n",
    "TRUNCATION = 0.95\n",
    "\n",
    "averages_y = []\n",
    "for i in x[1:]:\n",
    "    last_truncated_index = int(len(preps_reply_time_by_reply_number[i]) * TRUNCATION)\n",
    "    truncated_list = sorted(preps_reply_time_by_reply_number[i])[:last_truncated_index]\n",
    "    averages_y.append(avg(truncated_list))\n",
    "plt.plot(x[1:], averages_y, label='averages')\n",
    "\n",
    "plt.title(\"Reply time **variability** over invites number (preps with 20+ replies)\")\n",
    "plt.xlabel(\"Replies number\")\n",
    "plt.ylabel(\"Reply time variability (Minutes)\")\n",
    "plt.legend(loc='upper right')\n",
    "plt.grid(True)\n",
    "plt.show()"
   ]
  },
  {
   "cell_type": "markdown",
   "metadata": {},
   "source": [
    "Ну вот уже терпимо. Здесь я ограничила ось Y сверху 70 минутами (но можно иметь в виду, что среднее там начинается с 610 минут).\n",
    "#### Выводы:\n",
    "После 5 ответов, медиана времени ответа колеблется уже в пределах 12 минут. Это медиана медиан :) Если смотреть по усеченному среднему от медиан времени, то тут уже метрика колеблется в пределах 70 минут. Кажется, это можно назвать устаканиваением.\n"
   ]
  },
  {
   "cell_type": "markdown",
   "metadata": {},
   "source": [
    "## Есть ли корреляция между скоростью ответа и назначаемостью\n",
    "\n",
    "Нюансы:\n",
    "- Здесь сильно смещенная выборка, так как в ЛГ-заказах мы не пушим клиента отчитываться по заказу и далеко не всегда знаем, что услуга состоялась. Заказов, где произошло назначение всего 30-35% .\n",
    "- Выборка характерна тем, что в ней клиенты уже прислали приглашение спецу, а значит они выше среднего заинтересованы в том, чтобы назначить этих спецов. А также специалисты, которых пригласили, \"лучше\" среднего, потому что по каким-то критериев их уже \"выбрали\".\n",
    "- Бывает такое, что клиент может пригласить и сразу назначить спеца еще до того, как спец ответит ему на приглашение. Это происходит в результате дубликации заказа с выбранным спецом из ВР в ЛГ. Происходит автоназначаемое приглашение. __Не учитываю такие заказы.__\n",
    "- Бывает такое, что в заказе ивент отказа (r_zayavka0), но клиент назначил спеца. Это происходит, когда спец отправил заявку, клиент выбрал его, но потом спец отказался. Ивент r_zayavka перезаписывается. "
   ]
  },
  {
   "cell_type": "code",
   "execution_count": 32,
   "metadata": {
    "collapsed": false,
    "scrolled": true
   },
   "outputs": [],
   "source": [
    "# берем только те заказы, в которых был ответ на приглашение и хотя бы 1 назначение\n",
    "orders_with_nazn = df_all_preps[(df_all_preps['nazn_id'] > 0) & \n",
    "                                           (df_all_preps['answer_id'] > 0)]['order_id'].unique()\n",
    "\n",
    "# теперь из таблицы, где препы, регавшиеся после 1 января, берем только те заказы, где были назначения \n",
    "# (любых препов, не только зареганных после 1 января)\n",
    "# и смотрим только те приглашения, на которые были отклики\n",
    "\n",
    "df_orders_with_answer_and_nazn = df[(df['order_id'].isin(orders_with_nazn)) & \n",
    "                                    df['answer_code'].isin(['r_zayavka', 'r_zayavka0'])]\n",
    "# print 'Data len: ', len(df_orders_with_answer_and_nazn)\n",
    "# print 'Unique orders: ', len(df_orders_with_answer_and_nazn['order_id'].unique())"
   ]
  },
  {
   "cell_type": "code",
   "execution_count": 33,
   "metadata": {
    "collapsed": false
   },
   "outputs": [],
   "source": [
    "cols = ['prep_id', 'order_id', 'invite_dt']\n",
    "df_nazn_invites = df_orders_with_answer_and_nazn.groupby(cols)['invite_dt'].agg(['min'])\n",
    "df_nazn_answers = df_orders_with_answer_and_nazn.groupby(cols)['answer_dt'].agg(['min'])\n",
    "\n",
    "df_nazn_answers_diffs = df_nazn_answers - df_nazn_invites\n",
    "df_nazn_answers_diffs['minutes_diff'] = df_nazn_answers_diffs['min'].dt.total_seconds() / 60\n",
    "df_nazn_answers_diffs['minutes_diff'] = df_nazn_answers_diffs['minutes_diff'].round(3)\n",
    "\n",
    "df_nazn_nazn = df_orders_with_answer_and_nazn.groupby(cols)['nazn_id'].agg(['first'])\n",
    "df_nazn_concatenated = pandas.concat([df_nazn_answers_diffs, df_nazn_nazn], axis=1)"
   ]
  },
  {
   "cell_type": "code",
   "execution_count": 34,
   "metadata": {
    "collapsed": false
   },
   "outputs": [
    {
     "name": "stdout",
     "output_type": "stream",
     "text": [
      "Распределение времени ответов C назначением\n",
      "Percentile 25% =  4.183\n",
      "Percentile 50% =  19.85\n",
      "Percentile 75% =  65.5\n",
      "Percentile 95% =  864.8934\n",
      "\n",
      "Average =  217.63\n",
      "MAX =  51965.583\n",
      "Data len:  4053\n",
      "\n",
      "Распределение времени ответов БЕЗ назначения\n",
      "Percentile 25% =  7.575\n",
      "Percentile 50% =  28.233\n",
      "Percentile 75% =  120.075\n",
      "Percentile 95% =  1080.8336\n",
      "\n",
      "Average =  277.2\n",
      "MAX =  14859.067\n",
      "Data len:  1223\n"
     ]
    }
   ],
   "source": [
    "print \"Распределение времени ответов C назначением\"\n",
    "minutes_diffs_with_nazn = df_nazn_concatenated[df_nazn_concatenated['first'] > 0]['minutes_diff'].values\n",
    "show_usual_stats(minutes_diffs_with_nazn)\n",
    "\n",
    "print \"\\nРаспределение времени ответов БЕЗ назначения\"\n",
    "minutes_diffs_without_nazn = df_nazn_concatenated[df_nazn_concatenated['first'].isnull()]['minutes_diff'].values\n",
    "show_usual_stats(minutes_diffs_without_nazn)"
   ]
  },
  {
   "cell_type": "code",
   "execution_count": 35,
   "metadata": {
    "collapsed": false
   },
   "outputs": [
    {
     "data": {
      "image/png": "[encoded data removed]",
      "text/plain": [
       "<matplotlib.figure.Figure at 0x12c46b310>"
      ]
     },
     "metadata": {},
     "output_type": "display_data"
    }
   ],
   "source": [
    "MAX_VALUE = 100\n",
    "plt.figure(figsize=(12,5))\n",
    "plt.hist(minutes_diffs_with_nazn, bins = 20, alpha=0.5, label='with nazn', range = (0, MAX_VALUE), normed=True) \n",
    "plt.hist(minutes_diffs_without_nazn, bins = 20, alpha=0.5, label='without nazn', range = (0, MAX_VALUE), normed=True)\n",
    "plt.legend(loc='upper right')\n",
    "plt.title('Reply time distribution with and without nazn')\n",
    "plt.xlabel('Reply time (minutes)')\n",
    "plt.ylabel('Preps number')\n",
    "plt.show()"
   ]
  },
  {
   "cell_type": "code",
   "execution_count": 36,
   "metadata": {
    "collapsed": false
   },
   "outputs": [],
   "source": [
    "df_nazn_concatenated.loc[df_nazn_concatenated['first'] > 0, 'has_nazn'] = 1 \n",
    "df_nazn_concatenated.loc[df_nazn_concatenated['first'].isnull(), 'has_nazn'] = 0"
   ]
  },
  {
   "cell_type": "code",
   "execution_count": 37,
   "metadata": {
    "collapsed": false
   },
   "outputs": [
    {
     "name": "stdout",
     "output_type": "stream",
     "text": [
      "Коэффициент Пирсона:\n",
      "-0.0203844939203\n"
     ]
    }
   ],
   "source": [
    "print 'Коэффициент Пирсона:'\n",
    "print df_nazn_concatenated['has_nazn'].corr(df_nazn_concatenated['minutes_diff'], method='pearson')"
   ]
  },
  {
   "cell_type": "markdown",
   "metadata": {},
   "source": [
    "Возьмём все ответы, разделим их на 20 равных групп по временным интервалам и посчитаем для каждой группы процент назначений.\n",
    "<br>\n",
    "В каждую группу попало по 265 ответов. По третьей колонке можно понять, какой процент ответов приходит в течение часа (70-75%).\n",
    "\n"
   ]
  },
  {
   "cell_type": "code",
   "execution_count": 38,
   "metadata": {
    "collapsed": false
   },
   "outputs": [
    {
     "name": "stdout",
     "output_type": "stream",
     "text": [
      "интервал\t% назначений\n",
      "0.0 - 1.1 minutes \t88.01\n",
      "1.1 - 1.8 minutes \t84.09\n",
      "1.8 - 2.5 minutes \t81.88\n",
      "2.5 - 3.4 minutes \t80.9\n",
      "3.4 - 4.8 minutes \t83.33\n",
      "4.8 - 6.4 minutes \t78.95\n",
      "6.4 - 8.6 minutes \t77.44\n",
      "8.6 - 11.8 minutes \t79.92\n",
      "11.8 - 16.5 minutes \t76.14\n",
      "16.5 - 21.7 minutes \t75.56\n",
      "21.7 - 24.9 minutes \t75.66\n",
      "24.9 - 30.0 minutes \t76.6\n",
      "30.0 - 38.8 minutes \t75.38\n",
      "38.8 - 51.9 minutes \t73.48\n",
      "51.9 - 73.2 minutes \t71.59\n",
      "73.2 - 113.8 minutes \t75.76\n",
      "113.8 - 193.0 minutes \t68.56\n",
      "193.0 - 388.1 minutes \t70.45\n",
      "388.1 - 872.0 minutes \t70.45\n",
      "872.0 - 9641.3 minutes \t71.59\n"
     ]
    }
   ],
   "source": [
    "segment_size = len(df_nazn_concatenated) / 20\n",
    "df_nazn_concatenated_sorted = df_nazn_concatenated.sort_values(['minutes_diff'])\n",
    "\n",
    "print 'интервал\\t% назначений'\n",
    "for i in range(0, len(df_nazn_concatenated), segment_size):\n",
    "    between_bottom = df_nazn_concatenated_sorted['minutes_diff'].iloc[i]\n",
    "    try:\n",
    "        between_ceiling = df_nazn_concatenated_sorted['minutes_diff'].iloc[i + segment_size]\n",
    "    except:\n",
    "        break\n",
    "    time_segment = df_nazn_concatenated_sorted[df_nazn_concatenated_sorted['minutes_diff']\\\n",
    "                                               .between(between_bottom, between_ceiling)]\n",
    "    time_segment_nazn_percent = round(time_segment['has_nazn'].sum() * 100. / len(time_segment), 2)\n",
    "    segment_boundaries = str(round(between_bottom, 1)) + ' - ' + str(round(between_ceiling, 1)) + ' minutes'\n",
    "    print segment_boundaries, '\\t', time_segment_nazn_percent"
   ]
  },
  {
   "cell_type": "markdown",
   "metadata": {},
   "source": [
    "### Вывод:\n",
    "Корреляция между скоростью ответа и назначаемостью слабая, но она есть."
   ]
  },
  {
   "cell_type": "markdown",
   "metadata": {},
   "source": [
    "## Как быстро накапливаются приглашения? А ответы?\n",
    "\n",
    "Считаем с момента регистрации.\n",
    "<br>\n",
    "Имеем только дату регистрации, но не время. Для всех дефолтное время регистрации 00:00."
   ]
  },
  {
   "cell_type": "code",
   "execution_count": 39,
   "metadata": {
    "collapsed": false
   },
   "outputs": [],
   "source": [
    "## ATTENTION: долгий неоптимизированный кусок\n",
    "\n",
    "MAX_INVITES = 100 # 100+ инвайтов в выборке получили всего 32 спеца\n",
    "x = range(1, MAX_INVITES)\n",
    "preps_invites_intervals = {} \n",
    "for i in x:\n",
    "    preps_invites_intervals[i] = []\n",
    "\n",
    "n = 0\n",
    "for prep_id in df['prep_id'].unique():\n",
    "    reg_date = df[df['prep_id'] == prep_id]['prep_dt'].iloc[0]    \n",
    "    prep_invites_time = df[df['prep_id'] == prep_id].groupby(['order_id'])['invite_dt'] \\\n",
    "                                                    .agg(['first']).sort_values(['first'])['first']\n",
    "    for i in range(0, min(MAX_INVITES-1, len(prep_invites_time))):\n",
    "        t = prep_invites_time.iloc[i]\n",
    "        interval = t - reg_date\n",
    "        preps_invites_intervals[i+1].append(interval)"
   ]
  },
  {
   "cell_type": "code",
   "execution_count": 40,
   "metadata": {
    "collapsed": false
   },
   "outputs": [],
   "source": [
    "preps_invites_intervals_hours = {}\n",
    "day_seconds = 60 * 60 * 24\n",
    "\n",
    "for i in preps_invites_intervals:\n",
    "    preps_invites_intervals_hours[i] = map(lambda t: round(t.total_seconds() / day_seconds, 2),\n",
    "                                             preps_invites_intervals[i])"
   ]
  },
  {
   "cell_type": "code",
   "execution_count": 41,
   "metadata": {
    "collapsed": false
   },
   "outputs": [
    {
     "name": "stdout",
     "output_type": "stream",
     "text": [
      "Статистика времени получения первого инвайта:\n",
      "Percentile 25% =  8.52\n",
      "Percentile 50% =  20.43\n",
      "Percentile 75% =  40.7\n",
      "Percentile 95% =  81.792\n",
      "\n",
      "Average =  28.14\n",
      "MAX =  131.66\n",
      "Data len:  23695\n",
      "\n",
      "Статистика времени получения 5 инвайта:\n",
      "Percentile 25% =  22.965\n",
      "Percentile 50% =  42.72\n",
      "Percentile 75% =  67.57\n",
      "Percentile 95% =  103.319\n",
      "\n",
      "Average =  47.58\n",
      "MAX =  130.8\n",
      "Data len:  3687\n"
     ]
    },
    {
     "data": {
      "image/png": "[encoded data removed]",
      "text/plain": [
       "<matplotlib.figure.Figure at 0x122877450>"
      ]
     },
     "metadata": {},
     "output_type": "display_data"
    }
   ],
   "source": [
    "print 'Статистика времени получения первого инвайта:'\n",
    "show_usual_stats(sorted(preps_invites_intervals_hours[1]))\n",
    "\n",
    "print '\\nСтатистика времени получения 5 инвайта:'\n",
    "show_usual_stats(sorted(preps_invites_intervals_hours[5]))\n",
    "\n",
    "plt.figure(figsize=(17,5))\n",
    "plt.xlim(0, 100)\n",
    "\n",
    "# берем МЕДИАНУ времени по каждому N-ому ответу\n",
    "medians_y = []\n",
    "for i in x:\n",
    "    medians_y.append(percentile(sorted(preps_invites_intervals_hours[i]), 0.5))  \n",
    "plt.plot(x, medians_y, 'ro-', label='medians')\n",
    "    \n",
    "# берем УСЕЧЕННОЕ СРЕДНЕЕ времени по каждому N-ому ответу\n",
    "TRUNCATION = 0.95\n",
    "\n",
    "averages_y = []\n",
    "for i in x:\n",
    "    last_truncated_index = int(len(preps_invites_intervals_hours[i]) * TRUNCATION)\n",
    "    truncated_list = sorted(preps_invites_intervals_hours[i])[:last_truncated_index]\n",
    "    averages_y.append(avg(truncated_list))\n",
    "plt.plot(x, averages_y, 'bo-', label='truncated averages')\n",
    "\n",
    "plt.title(\"Invites accumulation by time\")\n",
    "plt.xlabel(\"Invites number\")\n",
    "plt.ylabel(\"Time (Days)\")\n",
    "plt.legend(loc='upper right')\n",
    "plt.grid(True)\n",
    "plt.show()"
   ]
  },
  {
   "cell_type": "markdown",
   "metadata": {},
   "source": [
    "Обратите внимание, что по оси У - дни.<br><br>\n",
    "Любопытно, что с увеличением числа инвайтов после 40 среднее и медианное время на их набор даже снижается. Это потому, что в расчете медианного времени на invites = 40 участвуют только спецы, набравшие 40+ инвайтов. Таких очень мало (0.75%). Скорее всего, эта подгруппа очень классных спецов, раз они получают много инвайтов. <br>\n",
    "<br>\n",
    "Посмотрим только тех спецов, кто набрал 20+ инвайтов. По этому графику видно чистое накопление с 1 по 20 инвайт (\"чистое\" - значит у одной и той же подгруппы)."
   ]
  },
  {
   "cell_type": "code",
   "execution_count": 42,
   "metadata": {
    "collapsed": false
   },
   "outputs": [],
   "source": [
    "INVITES_N = 20\n",
    "preps_sample = df_preps_invites_count[df_preps_invites_count >= INVITES_N]\n",
    "\n",
    "MAX_INVITES = 100 # 100+ инвайтов в выборке получили всего 32 спеца\n",
    "x = range(1, MAX_INVITES)\n",
    "preps_invites_intervals_20 = {} \n",
    "for i in x:\n",
    "    preps_invites_intervals_20[i] = []\n",
    "\n",
    "n = 0\n",
    "for prep_id in preps_sample.index:\n",
    "    reg_date = df[df['prep_id'] == prep_id]['prep_dt'].iloc[0]    \n",
    "    prep_invites_time = df[df['prep_id'] == prep_id].groupby(['order_id'])['invite_dt'] \\\n",
    "                                                    .agg(['first']).sort_values(['first'])['first']\n",
    "    for i in range(0, min(MAX_INVITES-1, len(prep_invites_time))):\n",
    "        t = prep_invites_time.iloc[i]\n",
    "        interval = t - reg_date\n",
    "        preps_invites_intervals_20[i+1].append(interval)"
   ]
  },
  {
   "cell_type": "code",
   "execution_count": 43,
   "metadata": {
    "collapsed": true
   },
   "outputs": [],
   "source": [
    "preps_invites_intervals_hours_20 = {}\n",
    "day_seconds = 60 * 60 * 24\n",
    "\n",
    "for i in preps_invites_intervals_20:\n",
    "    preps_invites_intervals_hours_20[i] = map(lambda t: round(t.total_seconds() / day_seconds, 2),\n",
    "                                             preps_invites_intervals_20[i])"
   ]
  },
  {
   "cell_type": "code",
   "execution_count": 44,
   "metadata": {
    "collapsed": false
   },
   "outputs": [
    {
     "name": "stdout",
     "output_type": "stream",
     "text": [
      "Статистика времени получения первого инвайта:\n",
      "Percentile 25% =  2.73\n",
      "Percentile 50% =  6.52\n",
      "Percentile 75% =  16.74\n",
      "Percentile 95% =  47.314\n",
      "\n",
      "Average =  12.76\n",
      "MAX =  94.46\n",
      "Data len:  473\n",
      "\n",
      "Статистика времени получения 5 инвайта:\n",
      "Percentile 25% =  9.63\n",
      "Percentile 50% =  20.65\n",
      "Percentile 75% =  38.53\n",
      "Percentile 95% =  76.898\n",
      "\n",
      "Average =  27.5\n",
      "MAX =  104.76\n",
      "Data len:  473\n"
     ]
    },
    {
     "data": {
      "image/png": "[encoded data removed]",
      "text/plain": [
       "<matplotlib.figure.Figure at 0x1315ff0d0>"
      ]
     },
     "metadata": {},
     "output_type": "display_data"
    }
   ],
   "source": [
    "print 'Статистика времени получения первого инвайта:'\n",
    "show_usual_stats(sorted(preps_invites_intervals_hours_20[1]))\n",
    "\n",
    "print '\\nСтатистика времени получения 5 инвайта:'\n",
    "show_usual_stats(sorted(preps_invites_intervals_hours_20[5]))\n",
    "\n",
    "plt.figure(figsize=(17,5))\n",
    "plt.xlim(0, 40)\n",
    "\n",
    "# берем МЕДИАНУ времени по каждому N-ому ответу\n",
    "medians_y = []\n",
    "for i in x:\n",
    "    medians_y.append(percentile(sorted(preps_invites_intervals_hours_20[i]), 0.5))  \n",
    "plt.plot(x, medians_y, 'ro-', label='medians')\n",
    "    \n",
    "# берем УСЕЧЕННОЕ СРЕДНЕЕ времени по каждому N-ому ответу\n",
    "TRUNCATION = 0.95\n",
    "\n",
    "averages_y = []\n",
    "for i in x:\n",
    "    last_truncated_index = int(len(preps_invites_intervals_hours_20[i]) * TRUNCATION)\n",
    "    truncated_list = sorted(preps_invites_intervals_hours_20[i])[:last_truncated_index]\n",
    "    averages_y.append(avg(truncated_list))\n",
    "plt.plot(x, averages_y, 'bo-', label='truncated averages')\n",
    "\n",
    "plt.title(\"Invites accumulation by time\")\n",
    "plt.xlabel(\"Invites number\")\n",
    "plt.ylabel(\"Time (Days)\")\n",
    "plt.legend(loc='lower right')\n",
    "plt.grid(True)\n",
    "plt.show()"
   ]
  },
  {
   "cell_type": "markdown",
   "metadata": {},
   "source": [
    "Посмотрим график медиан у всей выборки и у части выборки, набравших 20+ инвайтов, на одном графике. Видим, что разница весьма существенная. "
   ]
  },
  {
   "cell_type": "code",
   "execution_count": 45,
   "metadata": {
    "collapsed": false
   },
   "outputs": [
    {
     "data": {
      "image/png": "[encoded data removed]",
      "text/plain": [
       "<matplotlib.figure.Figure at 0x132df8dd0>"
      ]
     },
     "metadata": {},
     "output_type": "display_data"
    }
   ],
   "source": [
    "plt.figure(figsize=(17,5))\n",
    "plt.xlim(0, 20)\n",
    "\n",
    "medians_y = []\n",
    "for i in x:\n",
    "    medians_y.append(percentile(sorted(preps_invites_intervals_hours[i]), 0.5))  \n",
    "plt.plot(x, medians_y, 'ro-', label='medians ALL PREPS')\n",
    "\n",
    "medians_y = []\n",
    "for i in x:\n",
    "    medians_y.append(percentile(sorted(preps_invites_intervals_hours_20[i]), 0.5))  \n",
    "plt.plot(x, medians_y, 'bo-', label='medians 20+ INVITES PREPS')\n",
    "\n",
    "\n",
    "plt.title(\"Invites accumulation by time\")\n",
    "plt.xlabel(\"Invites number\")\n",
    "plt.ylabel(\"Time (Days)\")\n",
    "plt.legend(loc='lower right')\n",
    "plt.grid(True)\n",
    "plt.show()"
   ]
  },
  {
   "cell_type": "markdown",
   "metadata": {},
   "source": [
    "### Выводы:\n",
    "- \"Хорошие\" спецы (которые впоследствии набирают 20+ инвайтов) в среднем получают __первый инвайт через 7 дней после регистрации__. Если смотреть по всем спецам - то через 20 дней.\n",
    "- Выше мы выяснили, что метрика отвечаемости \"устаканивается\" после 5 инвайтов. Получается, устаканившуюся метрику мы сможем показывать и учитывать в среднем через 45 дней после регистрации."
   ]
  },
  {
   "cell_type": "markdown",
   "metadata": {},
   "source": [
    "Это мы смотрели на скорость накопления приглашений. Я также посмотрела, как быстро копятся ответы. Не буду мучать графиками - там всё примерно одинаково и это хорошо и ожидаемо.<br><br>\n",
    "Вообще, для меня довольно неожиданные показатели. Я ожидала, что накопление происходит сильно быстрее и мы сможем давать фидбэк спецам по их отвечаемости как можно раньше, а тут получается у большинства это будет через 45 дней."
   ]
  },
  {
   "cell_type": "code",
   "execution_count": null,
   "metadata": {
    "collapsed": true
   },
   "outputs": [],
   "source": []
  },
  {
   "cell_type": "code",
   "execution_count": null,
   "metadata": {
    "collapsed": true
   },
   "outputs": [],
   "source": []
  },
  {
   "cell_type": "code",
   "execution_count": null,
   "metadata": {
    "collapsed": true
   },
   "outputs": [],
   "source": []
  },
  {
   "cell_type": "code",
   "execution_count": null,
   "metadata": {
    "collapsed": true
   },
   "outputs": [],
   "source": []
  },
  {
   "cell_type": "code",
   "execution_count": null,
   "metadata": {
    "collapsed": true
   },
   "outputs": [],
   "source": []
  },
  {
   "cell_type": "code",
   "execution_count": null,
   "metadata": {
    "collapsed": true
   },
   "outputs": [],
   "source": []
  },
  {
   "cell_type": "markdown",
   "metadata": {},
   "source": []
  },
  {
   "cell_type": "markdown",
   "metadata": {},
   "source": [
    "_________________\n",
    "\n",
    "Что дальше:\n",
    "\n",
    "- Еще стоит разделить ответы спецов на положительные и отказы и посмотреть, отличается ли скорость? И вообще какое соотношение в среднем и по спецам?\n",
    "- Всё это интересно в разрезе по вертикалям (ремонт, красота, домашний персонал, бухгалтеры-юристы, it-freelance, ветеринары, артисты, разное) mstr, krst, dmstf, bkjr, itfl, treda, raznoe\n",
    "- Понять сводится ли % отвеченных и время ответа к одному числу. Зачем это нужно? Хочется учитывать в финальной метрике \"отвечаемости\" не только время, но и процент ответов. потому что если спец получил 20 приглашений, а ответил только на 1 за 30 минут, то это не значит, что он отвечает в среднем за 30 минут. Есть идея при расчетах, если спец не ответил за 24 часа, то отсекать это время и считать, будто он ответил за 24 часа. Но не факт, что это лучшее решение! Нужен ресерч.\n",
    "- Хотим показывать спецу его метрики на шкале (от -100 до 100, например). Где на этой шкале расположить N минут? (см. как использовать arctg в этом случае).\n",
    "- подключаем компонент времени. Можно ли брать последние 10 с одним весом, предпоследние 10 с другим весом и всё это суммировать? Есть ли такое, что спец отвечал хорошо, потом скатывается и отвечает плохо, а потом опять отвечает хорошо.\n",
    "- Нюанс — иногда клиент может создать заказ, запросить специалиста и сразу же отменить заказ (по какой-то своей причине). Хочется как-то отделять эту ситуацию (в которой специалист и не мог ответить быстро) от ситуации, когда спец так затянул с ответом, что клиент реально уже разочаровался и ушёл. В первом случае мы не будем понижать спецу «отвечаемость» и как-то его ругать, он не виновен. Во втором случае — будем.\n",
    "_________________\n",
    "\n",
    "Глобально:\n",
    "- потом мы будем использовать все эти метрики в расчёте общего рейтинга с некоторыми весами. По итоговому рейтингу будут приниматься всякие решения (например, давать плюшки или не давать). "
   ]
  },
  {
   "cell_type": "code",
   "execution_count": null,
   "metadata": {
    "collapsed": true
   },
   "outputs": [],
   "source": []
  }
 ],
 "metadata": {
  "kernelspec": {
   "display_name": "Python 2",
   "language": "python",
   "name": "python2"
  },
  "language_info": {
   "codemirror_mode": {
    "name": "ipython",
    "version": 2
   },
   "file_extension": ".py",
   "mimetype": "text/x-python",
   "name": "python",
   "nbconvert_exporter": "python",
   "pygments_lexer": "ipython2",
   "version": "2.7.12"
  }
 },
 "nbformat": 4,
 "nbformat_minor": 2
}
